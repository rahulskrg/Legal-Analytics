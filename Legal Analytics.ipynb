{
 "cells": [
  {
   "cell_type": "code",
   "execution_count": 147,
   "metadata": {},
   "outputs": [],
   "source": [
    "import os\n",
    "import pandas as pd\n",
    "import numpy as np\n",
    "import matplotlib.pyplot as plt\n",
    "from sklearn.model_selection import train_test_split\n",
    "import statsmodels.api as sm\n",
    "import seaborn as sns\n",
    "import random \n",
    "from sklearn import metrics\n",
    "#from paretochart import pareto"
   ]
  },
  {
   "cell_type": "code",
   "execution_count": 148,
   "metadata": {},
   "outputs": [],
   "source": [
    "data=pd.read_csv(\"SCDB_2018_01_caseCentered_Docket.csv\",encoding=\"unicode_escape\")"
   ]
  },
  {
   "cell_type": "code",
   "execution_count": 149,
   "metadata": {},
   "outputs": [],
   "source": [
    "data=data[data.columns.difference(['dateRearg','adminAction','petitionerState','caseOriginState','caseSourceState','respondentState','adminActionState','authorityDecision2','lawMinor'])]"
   ]
  },
  {
   "cell_type": "code",
   "execution_count": 150,
   "metadata": {},
   "outputs": [],
   "source": [
    "data1=data.dropna()"
   ]
  },
  {
   "cell_type": "code",
   "execution_count": 151,
   "metadata": {},
   "outputs": [
    {
     "data": {
      "text/plain": [
       "(10336, 44)"
      ]
     },
     "execution_count": 151,
     "metadata": {},
     "output_type": "execute_result"
    }
   ],
   "source": [
    "data.shape"
   ]
  },
  {
   "cell_type": "code",
   "execution_count": 152,
   "metadata": {},
   "outputs": [
    {
     "data": {
      "text/plain": [
       "(6509, 44)"
      ]
     },
     "execution_count": 152,
     "metadata": {},
     "output_type": "execute_result"
    }
   ],
   "source": [
    "data1.shape"
   ]
  },
  {
   "cell_type": "code",
   "execution_count": 153,
   "metadata": {},
   "outputs": [],
   "source": [
    "#data1_0=data1[data1.apply(lambda x: x['partyWinning'] == 0,axis='columns')]\n",
    "#data1_1=data1[data1.apply(lambda x: x['partyWinning'] == 1,axis='columns')]\n"
   ]
  },
  {
   "cell_type": "code",
   "execution_count": 154,
   "metadata": {},
   "outputs": [
    {
     "data": {
      "text/plain": [
       "1.0    4085\n",
       "0.0    2424\n",
       "Name: partyWinning, dtype: int64"
      ]
     },
     "execution_count": 154,
     "metadata": {},
     "output_type": "execute_result"
    }
   ],
   "source": [
    "data1[\"partyWinning\"].value_counts()"
   ]
  },
  {
   "cell_type": "code",
   "execution_count": 155,
   "metadata": {},
   "outputs": [],
   "source": [
    "data1.to_csv(\"docket_with_date.csv\")"
   ]
  },
  {
   "cell_type": "code",
   "execution_count": 156,
   "metadata": {},
   "outputs": [],
   "source": [
    "data2=data1[data1.columns.difference(['chief','caseDisposition','dateArgument','caseName','caseId','docketId','caseIssuesId','voteId','usCite','sctCite','dateDecision','lexisCite','ledCite','docket'])]"
   ]
  },
  {
   "cell_type": "code",
   "execution_count": 157,
   "metadata": {},
   "outputs": [
    {
     "data": {
      "text/plain": [
       "authorityDecision1            7\n",
       "caseDispositionUnusual        2\n",
       "caseOrigin                  128\n",
       "caseSource                   84\n",
       "certReason                   13\n",
       "decisionDirection             3\n",
       "decisionDirectionDissent      2\n",
       "decisionType                  2\n",
       "declarationUncon              4\n",
       "issue                       248\n",
       "issueArea                    14\n",
       "jurisdiction                  5\n",
       "lawSupp                     170\n",
       "lawType                       8\n",
       "lcDisagreement                2\n",
       "lcDisposition                12\n",
       "lcDispositionDirection        3\n",
       "majOpinAssigner              22\n",
       "majOpinWriter                36\n",
       "majVotes                      6\n",
       "minVotes                      5\n",
       "naturalCourt                 31\n",
       "partyWinning                  2\n",
       "petitioner                  251\n",
       "precedentAlteration           2\n",
       "respondent                  239\n",
       "splitVote                     1\n",
       "term                         66\n",
       "threeJudgeFdc                 2\n",
       "voteUnclear                   2\n",
       "dtype: int64"
      ]
     },
     "execution_count": 157,
     "metadata": {},
     "output_type": "execute_result"
    }
   ],
   "source": [
    "data2.nunique()"
   ]
  },
  {
   "cell_type": "code",
   "execution_count": 158,
   "metadata": {},
   "outputs": [],
   "source": [
    "col_names=data2.columns"
   ]
  },
  {
   "cell_type": "markdown",
   "metadata": {},
   "source": [
    "col_names2=[]\n",
    "for col in col_names:\n",
    "\n",
    "    if col=='chief':\n",
    " \n",
    "             data2[col] = data2[col].astype('category',copy=False)\n",
    "             col_names2.append(col)\n",
    "        \n",
    "    else :\n",
    "        \n",
    "        continue\n",
    "    "
   ]
  },
  {
   "cell_type": "markdown",
   "metadata": {},
   "source": [
    "   for col in col_names2:\n",
    "                data2[col] = data2[col].cat.codes  "
   ]
  },
  {
   "cell_type": "code",
   "execution_count": 159,
   "metadata": {},
   "outputs": [
    {
     "name": "stdout",
     "output_type": "stream",
     "text": [
      "<class 'pandas.core.frame.DataFrame'>\n",
      "Int64Index: 6509 entries, 0 to 9799\n",
      "Data columns (total 30 columns):\n",
      "authorityDecision1          6509 non-null float64\n",
      "caseDispositionUnusual      6509 non-null float64\n",
      "caseOrigin                  6509 non-null float64\n",
      "caseSource                  6509 non-null float64\n",
      "certReason                  6509 non-null float64\n",
      "decisionDirection           6509 non-null float64\n",
      "decisionDirectionDissent    6509 non-null float64\n",
      "decisionType                6509 non-null int64\n",
      "declarationUncon            6509 non-null float64\n",
      "issue                       6509 non-null float64\n",
      "issueArea                   6509 non-null float64\n",
      "jurisdiction                6509 non-null int64\n",
      "lawSupp                     6509 non-null float64\n",
      "lawType                     6509 non-null float64\n",
      "lcDisagreement              6509 non-null float64\n",
      "lcDisposition               6509 non-null float64\n",
      "lcDispositionDirection      6509 non-null float64\n",
      "majOpinAssigner             6509 non-null float64\n",
      "majOpinWriter               6509 non-null float64\n",
      "majVotes                    6509 non-null int64\n",
      "minVotes                    6509 non-null int64\n",
      "naturalCourt                6509 non-null int64\n",
      "partyWinning                6509 non-null float64\n",
      "petitioner                  6509 non-null float64\n",
      "precedentAlteration         6509 non-null float64\n",
      "respondent                  6509 non-null float64\n",
      "splitVote                   6509 non-null int64\n",
      "term                        6509 non-null int64\n",
      "threeJudgeFdc               6509 non-null float64\n",
      "voteUnclear                 6509 non-null float64\n",
      "dtypes: float64(23), int64(7)\n",
      "memory usage: 1.5 MB\n"
     ]
    }
   ],
   "source": [
    "data2.info()"
   ]
  },
  {
   "cell_type": "code",
   "execution_count": 160,
   "metadata": {},
   "outputs": [],
   "source": [
    "Target=data2['partyWinning']\n",
    "X=data2[data2.columns.difference(['partyWinning'])]\n",
    "#data1.groupby(['chief'])['partyWinning'].value_counts()"
   ]
  },
  {
   "cell_type": "code",
   "execution_count": 161,
   "metadata": {},
   "outputs": [],
   "source": [
    "#data1.groupby(['jurisdiction'])['lawType'].value_counts()"
   ]
  },
  {
   "cell_type": "markdown",
   "metadata": {},
   "source": [
    "# CART variable selection"
   ]
  },
  {
   "cell_type": "code",
   "execution_count": 162,
   "metadata": {},
   "outputs": [],
   "source": [
    "from   sklearn.model_selection import  cross_val_score\n",
    "from   sklearn.tree            import  DecisionTreeClassifier\n",
    "import matplotlib.pyplot       as      plt\n",
    "import numpy                   as      np"
   ]
  },
  {
   "cell_type": "code",
   "execution_count": 163,
   "metadata": {},
   "outputs": [],
   "source": [
    "clf       = DecisionTreeClassifier(criterion='gini',random_state=0)"
   ]
  },
  {
   "cell_type": "code",
   "execution_count": 164,
   "metadata": {},
   "outputs": [],
   "source": [
    "fit       = clf.fit(X,Target)"
   ]
  },
  {
   "cell_type": "code",
   "execution_count": 165,
   "metadata": {},
   "outputs": [
    {
     "data": {
      "image/png": "[encoded data removed]",
      "text/plain": [
       "<matplotlib.figure.Figure at 0x2400e65ff60>"
      ]
     },
     "metadata": {},
     "output_type": "display_data"
    }
   ],
   "source": [
    "features    = data2.columns\n",
    "importances = fit.feature_importances_\n",
    "indices     = np.argsort(importances)\n",
    "plt.title('Feature Importances')\n",
    "plt.barh(range(len(indices)), importances[indices], color='b', align='center')\n",
    "plt.yticks(range(len(indices)), [features[i] for i in indices])\n",
    "plt.xlabel('Relative Importance')\n",
    "plt.show()"
   ]
  },
  {
   "cell_type": "markdown",
   "metadata": {},
   "source": [
    "### It can be  seen that the most important feature is decision direction,lcDispositiondirection,precedent alteration,issue,split vote"
   ]
  },
  {
   "cell_type": "code",
   "execution_count": 166,
   "metadata": {},
   "outputs": [],
   "source": [
    "y=Target"
   ]
  },
  {
   "cell_type": "markdown",
   "metadata": {},
   "source": [
    "### Spliiting into training and testing datasets"
   ]
  },
  {
   "cell_type": "code",
   "execution_count": 167,
   "metadata": {},
   "outputs": [],
   "source": [
    "X_train, X_test, y_train, y_test = train_test_split(X, y, test_size = 0.3,random_state=50)"
   ]
  },
  {
   "cell_type": "markdown",
   "metadata": {},
   "source": [
    "# Building the CART model"
   ]
  },
  {
   "cell_type": "code",
   "execution_count": 168,
   "metadata": {},
   "outputs": [],
   "source": [
    "clf = DecisionTreeClassifier(criterion = \"gini\" , \n",
    "                             min_samples_split = 100,\n",
    "                             min_samples_leaf = 10,\n",
    "                             max_depth = 50)"
   ]
  },
  {
   "cell_type": "code",
   "execution_count": 169,
   "metadata": {},
   "outputs": [
    {
     "data": {
      "text/plain": [
       "DecisionTreeClassifier(class_weight=None, criterion='gini', max_depth=50,\n",
       "            max_features=None, max_leaf_nodes=None,\n",
       "            min_impurity_split=1e-07, min_samples_leaf=10,\n",
       "            min_samples_split=100, min_weight_fraction_leaf=0.0,\n",
       "            presort=False, random_state=None, splitter='best')"
      ]
     },
     "execution_count": 169,
     "metadata": {},
     "output_type": "execute_result"
    }
   ],
   "source": [
    "clf = clf.fit(X_train, y_train)\n",
    "clf"
   ]
  },
  {
   "cell_type": "code",
   "execution_count": 170,
   "metadata": {},
   "outputs": [
    {
     "data": {
      "text/plain": [
       "array([ 0.,  1.,  0., ...,  1.,  0.,  0.])"
      ]
     },
     "execution_count": 170,
     "metadata": {},
     "output_type": "execute_result"
    }
   ],
   "source": [
    "pred_y_train = clf.predict(X_train)\n",
    "pred_y_train\n"
   ]
  },
  {
   "cell_type": "code",
   "execution_count": 171,
   "metadata": {},
   "outputs": [
    {
     "data": {
      "text/plain": [
       "array([ 1.,  1.,  0., ...,  1.,  0.,  1.])"
      ]
     },
     "execution_count": 171,
     "metadata": {},
     "output_type": "execute_result"
    }
   ],
   "source": [
    "pred_y_test = clf.predict(X_test)\n",
    "pred_y_test"
   ]
  },
  {
   "cell_type": "code",
   "execution_count": 172,
   "metadata": {},
   "outputs": [
    {
     "data": {
      "text/plain": [
       "0.94490781387181744"
      ]
     },
     "execution_count": 172,
     "metadata": {},
     "output_type": "execute_result"
    }
   ],
   "source": [
    "from sklearn.metrics import accuracy_score\n",
    "score = accuracy_score(y_train, pred_y_train)\n",
    "score"
   ]
  },
  {
   "cell_type": "code",
   "execution_count": 173,
   "metadata": {},
   "outputs": [
    {
     "data": {
      "text/plain": [
       "0.93855606758832566"
      ]
     },
     "execution_count": 173,
     "metadata": {},
     "output_type": "execute_result"
    }
   ],
   "source": [
    "from sklearn.metrics import accuracy_score\n",
    "score = accuracy_score(y_test, pred_y_test)\n",
    "score"
   ]
  },
  {
   "cell_type": "code",
   "execution_count": 174,
   "metadata": {},
   "outputs": [
    {
     "data": {
      "text/plain": [
       "array([[ 677,   40],\n",
       "       [  80, 1156]])"
      ]
     },
     "execution_count": 174,
     "metadata": {},
     "output_type": "execute_result"
    }
   ],
   "source": [
    "from sklearn.metrics import confusion_matrix\n",
    "confusion_matrix(y_test, pred_y_test)"
   ]
  },
  {
   "cell_type": "code",
   "execution_count": 175,
   "metadata": {},
   "outputs": [
    {
     "data": {
      "text/plain": [
       "array([ 0.,  1.,  0., ...,  1.,  0.,  0.])"
      ]
     },
     "execution_count": 175,
     "metadata": {},
     "output_type": "execute_result"
    }
   ],
   "source": [
    "pred_y_train = clf.predict(X_train )\n",
    "pred_y_train\n"
   ]
  },
  {
   "cell_type": "markdown",
   "metadata": {},
   "source": [
    "### classification accuracy of our model"
   ]
  },
  {
   "cell_type": "code",
   "execution_count": 176,
   "metadata": {},
   "outputs": [
    {
     "data": {
      "text/plain": [
       "0.94490781387181744"
      ]
     },
     "execution_count": 176,
     "metadata": {},
     "output_type": "execute_result"
    }
   ],
   "source": [
    "from sklearn.metrics import accuracy_score\n",
    "from sklearn.metrics import roc_curve\n",
    "from sklearn.metrics import auc\n",
    "score = accuracy_score(y_train, pred_y_train)\n",
    "score"
   ]
  },
  {
   "cell_type": "code",
   "execution_count": 177,
   "metadata": {},
   "outputs": [],
   "source": [
    "from sklearn import metrics\n",
    "import seaborn as sn\n",
    "def draw_cm( actual, predicted ):\n",
    "    cm = metrics.confusion_matrix( actual, predicted, [1,0] )\n",
    "    sn.heatmap(cm, annot=True,  fmt='.2f', xticklabels = [\"Won\", \"Lost\"] , yticklabels = [\"Won\", \"Lost\"] )\n",
    "    plt.ylabel('Actual label')\n",
    "    plt.xlabel('Predicted label')\n",
    "    plt.show()"
   ]
  },
  {
   "cell_type": "code",
   "execution_count": 178,
   "metadata": {},
   "outputs": [
    {
     "data": {
      "image/png": "[encoded data removed]",
      "text/plain": [
       "<matplotlib.figure.Figure at 0x2400e615d30>"
      ]
     },
     "metadata": {},
     "output_type": "display_data"
    }
   ],
   "source": [
    "draw_cm( y_train, pred_y_train)"
   ]
  },
  {
   "cell_type": "code",
   "execution_count": 179,
   "metadata": {},
   "outputs": [
    {
     "name": "stdout",
     "output_type": "stream",
     "text": [
      "Total Accuracy :  0.94\n"
     ]
    }
   ],
   "source": [
    "print( 'Total Accuracy : ',np.round( metrics.accuracy_score( y_train,pred_y_train), 2 ) )"
   ]
  },
  {
   "cell_type": "code",
   "execution_count": 180,
   "metadata": {},
   "outputs": [
    {
     "name": "stdout",
     "output_type": "stream",
     "text": [
      "Precision :  0.97\n"
     ]
    }
   ],
   "source": [
    "print( 'Precision : ',np.round( metrics.precision_score( y_train,pred_y_train ), 2 ) )"
   ]
  },
  {
   "cell_type": "code",
   "execution_count": 181,
   "metadata": {},
   "outputs": [
    {
     "name": "stdout",
     "output_type": "stream",
     "text": [
      "Recall :  0.94\n"
     ]
    }
   ],
   "source": [
    "print( 'Recall : ',np.round( metrics.recall_score( y_train,pred_y_train ), 2 ) )"
   ]
  },
  {
   "cell_type": "code",
   "execution_count": 182,
   "metadata": {},
   "outputs": [],
   "source": [
    "cm1 = metrics.confusion_matrix( y_train, pred_y_train, [1,0] )\n",
    "specificity = cm1[1,1]/(cm1[1,0]+cm1[1,1])"
   ]
  },
  {
   "cell_type": "code",
   "execution_count": 183,
   "metadata": {},
   "outputs": [
    {
     "name": "stdout",
     "output_type": "stream",
     "text": [
      "Specificity :  (0.95137668424135913, 2)\n"
     ]
    }
   ],
   "source": [
    "print('Specificity : ', ( specificity, 2 ) )"
   ]
  },
  {
   "cell_type": "code",
   "execution_count": 184,
   "metadata": {},
   "outputs": [],
   "source": [
    "y_train_prob = clf.predict_proba(X_train)"
   ]
  },
  {
   "cell_type": "code",
   "execution_count": 185,
   "metadata": {},
   "outputs": [
    {
     "data": {
      "text/plain": [
       "0.98869550627019875"
      ]
     },
     "execution_count": 185,
     "metadata": {},
     "output_type": "execute_result"
    }
   ],
   "source": [
    "fpr, tpr, thresholds = roc_curve(y_train, y_train_prob[:,1])\n",
    "auc(fpr, tpr)\n"
   ]
  },
  {
   "cell_type": "code",
   "execution_count": 186,
   "metadata": {},
   "outputs": [],
   "source": [
    "def draw_roc( actual, probs ):\n",
    "    fpr, tpr, thresholds = metrics.roc_curve( actual, probs,\n",
    "                                              drop_intermediate = False )\n",
    "    auc_score = metrics.roc_auc_score( actual, probs )\n",
    "    plt.figure(figsize=(6, 4))\n",
    "    plt.plot( fpr, tpr, label='ROC curve (area = %0.2f)' % auc_score )\n",
    "    plt.plot([0, 1], [0, 1], 'k--')\n",
    "    plt.xlim([0.0, 1.0])\n",
    "    plt.ylim([0.0, 1.05])\n",
    "    plt.xlabel('False Positive Rate or [1 - True Negative Rate]')\n",
    "    plt.ylabel('True Positive Rate')\n",
    "    plt.title('Receiver operating characteristic example')\n",
    "    plt.legend(loc=\"lower right\")\n",
    "    plt.show()\n",
    "\n",
    "    return fpr, tpr, thresholds"
   ]
  },
  {
   "cell_type": "code",
   "execution_count": 187,
   "metadata": {},
   "outputs": [
    {
     "data": {
      "image/png": "[encoded data removed]",
      "text/plain": [
       "<matplotlib.figure.Figure at 0x2400f05d978>"
      ]
     },
     "metadata": {},
     "output_type": "display_data"
    }
   ],
   "source": [
    "fpr, tpr, thresholds = draw_roc( y_train,y_train_prob[:,1] )"
   ]
  },
  {
   "cell_type": "markdown",
   "metadata": {},
   "source": [
    "### Accuracy of the test set"
   ]
  },
  {
   "cell_type": "code",
   "execution_count": 188,
   "metadata": {},
   "outputs": [
    {
     "data": {
      "text/plain": [
       "0.93855606758832566"
      ]
     },
     "execution_count": 188,
     "metadata": {},
     "output_type": "execute_result"
    }
   ],
   "source": [
    "pred_y_test = clf.predict(X_test)\n",
    "score_h = accuracy_score(y_test, pred_y_test)\n",
    "score_h"
   ]
  },
  {
   "cell_type": "code",
   "execution_count": 189,
   "metadata": {},
   "outputs": [
    {
     "data": {
      "image/png": "[encoded data removed]",
      "text/plain": [
       "<matplotlib.figure.Figure at 0x2400ee8bcc0>"
      ]
     },
     "metadata": {},
     "output_type": "display_data"
    }
   ],
   "source": [
    "draw_cm( y_test, pred_y_test)"
   ]
  },
  {
   "cell_type": "code",
   "execution_count": 190,
   "metadata": {},
   "outputs": [
    {
     "name": "stdout",
     "output_type": "stream",
     "text": [
      "Total Accuracy :  0.94\n"
     ]
    }
   ],
   "source": [
    "print( 'Total Accuracy : ',np.round( metrics.accuracy_score( y_test,pred_y_test), 2 ) )"
   ]
  },
  {
   "cell_type": "code",
   "execution_count": 191,
   "metadata": {},
   "outputs": [
    {
     "name": "stdout",
     "output_type": "stream",
     "text": [
      "Precision :  0.97\n"
     ]
    }
   ],
   "source": [
    "print( 'Precision : ',np.round( metrics.precision_score( y_test,pred_y_test ), 2 ) )"
   ]
  },
  {
   "cell_type": "code",
   "execution_count": 192,
   "metadata": {},
   "outputs": [
    {
     "name": "stdout",
     "output_type": "stream",
     "text": [
      "Recall :  0.94\n"
     ]
    }
   ],
   "source": [
    "print( 'Recall : ',np.round( metrics.recall_score( y_test,pred_y_test ), 2 ) )"
   ]
  },
  {
   "cell_type": "code",
   "execution_count": 193,
   "metadata": {},
   "outputs": [],
   "source": [
    "cm1 = metrics.confusion_matrix( y_test, pred_y_test, [1,0] )\n",
    "specificity = cm1[1,1]/(cm1[1,0]+cm1[1,1])"
   ]
  },
  {
   "cell_type": "code",
   "execution_count": 194,
   "metadata": {},
   "outputs": [
    {
     "name": "stdout",
     "output_type": "stream",
     "text": [
      "Specificity :  0.94\n"
     ]
    }
   ],
   "source": [
    "print('Specificity : ', round( specificity, 2 ) )"
   ]
  },
  {
   "cell_type": "code",
   "execution_count": 195,
   "metadata": {},
   "outputs": [
    {
     "data": {
      "text/plain": [
       "0.97258782322965609"
      ]
     },
     "execution_count": 195,
     "metadata": {},
     "output_type": "execute_result"
    }
   ],
   "source": [
    "y_test_prob = clf.predict_proba(X_test)\n",
    "fpr, tpr, thresholds = roc_curve(y_test, y_test_prob[:,1])\n",
    "auc(fpr, tpr)"
   ]
  },
  {
   "cell_type": "code",
   "execution_count": 196,
   "metadata": {},
   "outputs": [
    {
     "data": {
      "image/png": "[encoded data removed]",
      "text/plain": [
       "<matplotlib.figure.Figure at 0x2400f0902b0>"
      ]
     },
     "metadata": {},
     "output_type": "display_data"
    }
   ],
   "source": [
    "fpr, tpr, thresholds = draw_roc( y_test,y_test_prob[:,1] )"
   ]
  },
  {
   "cell_type": "markdown",
   "metadata": {},
   "source": [
    "### Cross validation function¶"
   ]
  },
  {
   "cell_type": "code",
   "execution_count": 197,
   "metadata": {},
   "outputs": [
    {
     "data": {
      "text/plain": [
       "0.017508090429611094"
      ]
     },
     "execution_count": 197,
     "metadata": {},
     "output_type": "execute_result"
    }
   ],
   "source": [
    "from sklearn.cross_validation import cross_val_score\n",
    "scores = cross_val_score(clf, X_train , y_train, cv = 10, scoring='roc_auc')\n",
    "\n",
    "scores.std()"
   ]
  },
  {
   "cell_type": "code",
   "execution_count": 198,
   "metadata": {},
   "outputs": [
    {
     "data": {
      "text/plain": [
       "0.96528417090330676"
      ]
     },
     "execution_count": 198,
     "metadata": {},
     "output_type": "execute_result"
    }
   ],
   "source": [
    "scores.mean()"
   ]
  },
  {
   "cell_type": "markdown",
   "metadata": {},
   "source": [
    "#### Tuning the Classifier using GridSearchCV"
   ]
  },
  {
   "cell_type": "code",
   "execution_count": 199,
   "metadata": {},
   "outputs": [],
   "source": [
    "from sklearn.grid_search import GridSearchCV"
   ]
  },
  {
   "cell_type": "code",
   "execution_count": 200,
   "metadata": {},
   "outputs": [],
   "source": [
    "param_dist = {\"criterion\": [\"gini\",\"entropy\"],\n",
    "              \"max_depth\": np.arange(3,10),\n",
    "              }"
   ]
  },
  {
   "cell_type": "code",
   "execution_count": 201,
   "metadata": {},
   "outputs": [],
   "source": [
    "tree_cv  = GridSearchCV(clf, param_dist, cv = 10, \n",
    "                        scoring = 'roc_auc', verbose = 100)\n"
   ]
  },
  {
   "cell_type": "code",
   "execution_count": 202,
   "metadata": {},
   "outputs": [
    {
     "name": "stdout",
     "output_type": "stream",
     "text": [
      "Fitting 10 folds for each of 14 candidates, totalling 140 fits\n",
      "[CV] criterion=gini, max_depth=3 .....................................\n",
      "[CV] ............ criterion=gini, max_depth=3, score=0.685103 -   0.0s\n",
      "[Parallel(n_jobs=1)]: Done   1 out of   1 | elapsed:    0.0s remaining:    0.0s\n",
      "[CV] criterion=gini, max_depth=3 .....................................\n",
      "[CV] ............ criterion=gini, max_depth=3, score=0.690664 -   0.0s\n",
      "[Parallel(n_jobs=1)]: Done   2 out of   2 | elapsed:    0.0s remaining:    0.0s\n",
      "[CV] criterion=gini, max_depth=3 .....................................\n",
      "[CV] ............ criterion=gini, max_depth=3, score=0.604176 -   0.0s\n",
      "[Parallel(n_jobs=1)]: Done   3 out of   3 | elapsed:    0.0s remaining:    0.0s\n",
      "[CV] criterion=gini, max_depth=3 .....................................\n",
      "[CV] ............ criterion=gini, max_depth=3, score=0.693711 -   0.0s\n",
      "[Parallel(n_jobs=1)]: Done   4 out of   4 | elapsed:    0.0s remaining:    0.0s\n",
      "[CV] criterion=gini, max_depth=3 .....................................\n",
      "[CV] ............ criterion=gini, max_depth=3, score=0.703529 -   0.0s\n",
      "[Parallel(n_jobs=1)]: Done   5 out of   5 | elapsed:    0.0s remaining:    0.0s\n",
      "[CV] criterion=gini, max_depth=3 .....................................\n",
      "[CV] ............ criterion=gini, max_depth=3, score=0.643285 -   0.0s\n",
      "[Parallel(n_jobs=1)]: Done   6 out of   6 | elapsed:    0.0s remaining:    0.0s\n",
      "[CV] criterion=gini, max_depth=3 .....................................\n",
      "[CV] ............ criterion=gini, max_depth=3, score=0.650221 -   0.0s\n",
      "[Parallel(n_jobs=1)]: Done   7 out of   7 | elapsed:    0.0s remaining:    0.0s\n",
      "[CV] criterion=gini, max_depth=3 .....................................\n",
      "[CV] ............ criterion=gini, max_depth=3, score=0.703643 -   0.0s\n",
      "[Parallel(n_jobs=1)]: Done   8 out of   8 | elapsed:    0.1s remaining:    0.0s\n",
      "[CV] criterion=gini, max_depth=3 .....................................\n",
      "[CV] ............ criterion=gini, max_depth=3, score=0.686574 -   0.0s\n",
      "[Parallel(n_jobs=1)]: Done   9 out of   9 | elapsed:    0.1s remaining:    0.0s\n",
      "[CV] criterion=gini, max_depth=3 .....................................\n",
      "[CV] ............ criterion=gini, max_depth=3, score=0.668973 -   0.0s\n",
      "[Parallel(n_jobs=1)]: Done  10 out of  10 | elapsed:    0.1s remaining:    0.0s\n",
      "[CV] criterion=gini, max_depth=4 .....................................\n",
      "[CV] ............ criterion=gini, max_depth=4, score=0.846445 -   0.0s\n",
      "[Parallel(n_jobs=1)]: Done  11 out of  11 | elapsed:    0.1s remaining:    0.0s\n",
      "[CV] criterion=gini, max_depth=4 .....................................\n",
      "[CV] ............ criterion=gini, max_depth=4, score=0.835221 -   0.0s\n",
      "[Parallel(n_jobs=1)]: Done  12 out of  12 | elapsed:    0.1s remaining:    0.0s\n",
      "[CV] criterion=gini, max_depth=4 .....................................\n",
      "[CV] ............ criterion=gini, max_depth=4, score=0.719544 -   0.0s\n",
      "[Parallel(n_jobs=1)]: Done  13 out of  13 | elapsed:    0.2s remaining:    0.0s\n",
      "[CV] criterion=gini, max_depth=4 .....................................\n",
      "[CV] ............ criterion=gini, max_depth=4, score=0.825475 -   0.0s\n",
      "[Parallel(n_jobs=1)]: Done  14 out of  14 | elapsed:    0.2s remaining:    0.0s\n",
      "[CV] criterion=gini, max_depth=4 .....................................\n",
      "[CV] ............ criterion=gini, max_depth=4, score=0.871776 -   0.0s\n",
      "[Parallel(n_jobs=1)]: Done  15 out of  15 | elapsed:    0.2s remaining:    0.0s\n",
      "[CV] criterion=gini, max_depth=4 .....................................\n",
      "[CV] ............ criterion=gini, max_depth=4, score=0.862142 -   0.0s\n",
      "[Parallel(n_jobs=1)]: Done  16 out of  16 | elapsed:    0.2s remaining:    0.0s\n",
      "[CV] criterion=gini, max_depth=4 .....................................\n",
      "[CV] ............ criterion=gini, max_depth=4, score=0.828758 -   0.0s\n",
      "[Parallel(n_jobs=1)]: Done  17 out of  17 | elapsed:    0.3s remaining:    0.0s\n",
      "[CV] criterion=gini, max_depth=4 .....................................\n",
      "[CV] ............ criterion=gini, max_depth=4, score=0.854076 -   0.0s\n",
      "[Parallel(n_jobs=1)]: Done  18 out of  18 | elapsed:    0.3s remaining:    0.0s\n",
      "[CV] criterion=gini, max_depth=4 .....................................\n",
      "[CV] ............ criterion=gini, max_depth=4, score=0.810485 -   0.0s\n",
      "[Parallel(n_jobs=1)]: Done  19 out of  19 | elapsed:    0.3s remaining:    0.0s\n",
      "[CV] criterion=gini, max_depth=4 .....................................\n",
      "[CV] ............ criterion=gini, max_depth=4, score=0.859838 -   0.0s\n",
      "[Parallel(n_jobs=1)]: Done  20 out of  20 | elapsed:    0.4s remaining:    0.0s\n",
      "[CV] criterion=gini, max_depth=5 .....................................\n",
      "[CV] ............ criterion=gini, max_depth=5, score=0.967005 -   0.0s\n",
      "[Parallel(n_jobs=1)]: Done  21 out of  21 | elapsed:    0.4s remaining:    0.0s\n",
      "[CV] criterion=gini, max_depth=5 .....................................\n",
      "[CV] ............ criterion=gini, max_depth=5, score=0.861475 -   0.0s\n",
      "[Parallel(n_jobs=1)]: Done  22 out of  22 | elapsed:    0.4s remaining:    0.0s\n",
      "[CV] criterion=gini, max_depth=5 .....................................\n",
      "[CV] ............ criterion=gini, max_depth=5, score=0.795547 -   0.0s\n",
      "[Parallel(n_jobs=1)]: Done  23 out of  23 | elapsed:    0.4s remaining:    0.0s\n",
      "[CV] criterion=gini, max_depth=5 .....................................\n",
      "[CV] ............ criterion=gini, max_depth=5, score=0.884282 -   0.0s\n",
      "[Parallel(n_jobs=1)]: Done  24 out of  24 | elapsed:    0.5s remaining:    0.0s\n",
      "[CV] criterion=gini, max_depth=5 .....................................\n",
      "[CV] ............ criterion=gini, max_depth=5, score=0.963271 -   0.0s\n",
      "[Parallel(n_jobs=1)]: Done  25 out of  25 | elapsed:    0.5s remaining:    0.0s\n",
      "[CV] criterion=gini, max_depth=5 .....................................\n",
      "[CV] ............ criterion=gini, max_depth=5, score=0.896245 -   0.0s\n",
      "[Parallel(n_jobs=1)]: Done  26 out of  26 | elapsed:    0.5s remaining:    0.0s\n",
      "[CV] criterion=gini, max_depth=5 .....................................\n",
      "[CV] ............ criterion=gini, max_depth=5, score=0.963035 -   0.0s\n",
      "[Parallel(n_jobs=1)]: Done  27 out of  27 | elapsed:    0.6s remaining:    0.0s\n",
      "[CV] criterion=gini, max_depth=5 .....................................\n",
      "[CV] ............ criterion=gini, max_depth=5, score=0.969536 -   0.0s\n",
      "[Parallel(n_jobs=1)]: Done  28 out of  28 | elapsed:    0.6s remaining:    0.0s\n",
      "[CV] criterion=gini, max_depth=5 .....................................\n",
      "[CV] ............ criterion=gini, max_depth=5, score=0.854964 -   0.0s\n",
      "[Parallel(n_jobs=1)]: Done  29 out of  29 | elapsed:    0.6s remaining:    0.0s\n",
      "[CV] criterion=gini, max_depth=5 .....................................\n",
      "[CV] ............ criterion=gini, max_depth=5, score=0.979329 -   0.0s\n",
      "[Parallel(n_jobs=1)]: Done  30 out of  30 | elapsed:    0.6s remaining:    0.0s\n",
      "[CV] criterion=gini, max_depth=6 .....................................\n",
      "[CV] ............ criterion=gini, max_depth=6, score=0.961044 -   0.0s\n",
      "[Parallel(n_jobs=1)]: Done  31 out of  31 | elapsed:    0.7s remaining:    0.0s\n",
      "[CV] criterion=gini, max_depth=6 .....................................\n",
      "[CV] ............ criterion=gini, max_depth=6, score=0.961014 -   0.0s\n",
      "[Parallel(n_jobs=1)]: Done  32 out of  32 | elapsed:    0.7s remaining:    0.0s\n",
      "[CV] criterion=gini, max_depth=6 .....................................\n",
      "[CV] ............ criterion=gini, max_depth=6, score=0.869160 -   0.0s\n",
      "[Parallel(n_jobs=1)]: Done  33 out of  33 | elapsed:    0.8s remaining:    0.0s\n",
      "[CV] criterion=gini, max_depth=6 .....................................\n",
      "[CV] ............ criterion=gini, max_depth=6, score=0.972361 -   0.0s\n",
      "[Parallel(n_jobs=1)]: Done  34 out of  34 | elapsed:    0.8s remaining:    0.0s\n",
      "[CV] criterion=gini, max_depth=6 .....................................\n",
      "[CV] ............ criterion=gini, max_depth=6, score=0.971499 -   0.0s\n",
      "[Parallel(n_jobs=1)]: Done  35 out of  35 | elapsed:    0.8s remaining:    0.0s\n",
      "[CV] criterion=gini, max_depth=6 .....................................\n",
      "[CV] ............ criterion=gini, max_depth=6, score=0.970658 -   0.0s\n",
      "[Parallel(n_jobs=1)]: Done  36 out of  36 | elapsed:    0.8s remaining:    0.0s\n",
      "[CV] criterion=gini, max_depth=6 .....................................\n",
      "[CV] ............ criterion=gini, max_depth=6, score=0.964728 -   0.0s\n",
      "[Parallel(n_jobs=1)]: Done  37 out of  37 | elapsed:    0.9s remaining:    0.0s\n",
      "[CV] criterion=gini, max_depth=6 .....................................\n",
      "[CV] ............ criterion=gini, max_depth=6, score=0.971950 -   0.0s\n",
      "[Parallel(n_jobs=1)]: Done  38 out of  38 | elapsed:    0.9s remaining:    0.0s\n",
      "[CV] criterion=gini, max_depth=6 .....................................\n",
      "[CV] ............ criterion=gini, max_depth=6, score=0.964623 -   0.0s\n",
      "[Parallel(n_jobs=1)]: Done  39 out of  39 | elapsed:    0.9s remaining:    0.0s\n",
      "[CV] criterion=gini, max_depth=6 .....................................\n",
      "[CV] ............ criterion=gini, max_depth=6, score=0.983658 -   0.0s\n",
      "[Parallel(n_jobs=1)]: Done  40 out of  40 | elapsed:    1.0s remaining:    0.0s\n",
      "[CV] criterion=gini, max_depth=7 .....................................\n"
     ]
    },
    {
     "name": "stdout",
     "output_type": "stream",
     "text": [
      "[CV] ............ criterion=gini, max_depth=7, score=0.959865 -   0.0s\n",
      "[Parallel(n_jobs=1)]: Done  41 out of  41 | elapsed:    1.0s remaining:    0.0s\n",
      "[CV] criterion=gini, max_depth=7 .....................................\n",
      "[CV] ............ criterion=gini, max_depth=7, score=0.962901 -   0.0s\n",
      "[Parallel(n_jobs=1)]: Done  42 out of  42 | elapsed:    1.0s remaining:    0.0s\n",
      "[CV] criterion=gini, max_depth=7 .....................................\n",
      "[CV] ............ criterion=gini, max_depth=7, score=0.877296 -   0.0s\n",
      "[Parallel(n_jobs=1)]: Done  43 out of  43 | elapsed:    1.1s remaining:    0.0s\n",
      "[CV] criterion=gini, max_depth=7 .....................................\n",
      "[CV] ............ criterion=gini, max_depth=7, score=0.973510 -   0.0s\n",
      "[Parallel(n_jobs=1)]: Done  44 out of  44 | elapsed:    1.1s remaining:    0.0s\n",
      "[CV] criterion=gini, max_depth=7 .....................................\n",
      "[CV] ............ criterion=gini, max_depth=7, score=0.972043 -   0.0s\n",
      "[Parallel(n_jobs=1)]: Done  45 out of  45 | elapsed:    1.1s remaining:    0.0s\n",
      "[CV] criterion=gini, max_depth=7 .....................................\n",
      "[CV] ............ criterion=gini, max_depth=7, score=0.969827 -   0.0s\n",
      "[Parallel(n_jobs=1)]: Done  46 out of  46 | elapsed:    1.2s remaining:    0.0s\n",
      "[CV] criterion=gini, max_depth=7 .....................................\n",
      "[CV] ............ criterion=gini, max_depth=7, score=0.964092 -   0.0s\n",
      "[Parallel(n_jobs=1)]: Done  47 out of  47 | elapsed:    1.2s remaining:    0.0s\n",
      "[CV] criterion=gini, max_depth=7 .....................................\n",
      "[CV] ............ criterion=gini, max_depth=7, score=0.971837 -   0.0s\n",
      "[Parallel(n_jobs=1)]: Done  48 out of  48 | elapsed:    1.2s remaining:    0.0s\n",
      "[CV] criterion=gini, max_depth=7 .....................................\n",
      "[CV] ............ criterion=gini, max_depth=7, score=0.959174 -   0.0s\n",
      "[Parallel(n_jobs=1)]: Done  49 out of  49 | elapsed:    1.3s remaining:    0.0s\n",
      "[CV] criterion=gini, max_depth=7 .....................................\n",
      "[CV] ............ criterion=gini, max_depth=7, score=0.985719 -   0.0s\n",
      "[Parallel(n_jobs=1)]: Done  50 out of  50 | elapsed:    1.3s remaining:    0.0s\n",
      "[CV] criterion=gini, max_depth=8 .....................................\n",
      "[CV] ............ criterion=gini, max_depth=8, score=0.958059 -   0.0s\n",
      "[Parallel(n_jobs=1)]: Done  51 out of  51 | elapsed:    1.4s remaining:    0.0s\n",
      "[CV] criterion=gini, max_depth=8 .....................................\n",
      "[CV] ............ criterion=gini, max_depth=8, score=0.965713 -   0.0s\n",
      "[Parallel(n_jobs=1)]: Done  52 out of  52 | elapsed:    1.4s remaining:    0.0s\n",
      "[CV] criterion=gini, max_depth=8 .....................................\n",
      "[CV] ............ criterion=gini, max_depth=8, score=0.878209 -   0.0s\n",
      "[Parallel(n_jobs=1)]: Done  53 out of  53 | elapsed:    1.4s remaining:    0.0s\n",
      "[CV] criterion=gini, max_depth=8 .....................................\n",
      "[CV] ............ criterion=gini, max_depth=8, score=0.975705 -   0.0s\n",
      "[Parallel(n_jobs=1)]: Done  54 out of  54 | elapsed:    1.5s remaining:    0.0s\n",
      "[CV] criterion=gini, max_depth=8 .....................................\n",
      "[CV] ............ criterion=gini, max_depth=8, score=0.974792 -   0.0s\n",
      "[Parallel(n_jobs=1)]: Done  55 out of  55 | elapsed:    1.5s remaining:    0.0s\n",
      "[CV] criterion=gini, max_depth=8 .....................................\n",
      "[CV] ............ criterion=gini, max_depth=8, score=0.970299 -   0.0s\n",
      "[Parallel(n_jobs=1)]: Done  56 out of  56 | elapsed:    1.5s remaining:    0.0s\n",
      "[CV] criterion=gini, max_depth=8 .....................................\n",
      "[CV] ............ criterion=gini, max_depth=8, score=0.968329 -   0.0s\n",
      "[Parallel(n_jobs=1)]: Done  57 out of  57 | elapsed:    1.6s remaining:    0.0s\n",
      "[CV] criterion=gini, max_depth=8 .....................................\n",
      "[CV] ............ criterion=gini, max_depth=8, score=0.970433 -   0.0s\n",
      "[Parallel(n_jobs=1)]: Done  58 out of  58 | elapsed:    1.6s remaining:    0.0s\n",
      "[CV] criterion=gini, max_depth=8 .....................................\n",
      "[CV] ............ criterion=gini, max_depth=8, score=0.958617 -   0.0s\n",
      "[Parallel(n_jobs=1)]: Done  59 out of  59 | elapsed:    1.7s remaining:    0.0s\n",
      "[CV] criterion=gini, max_depth=8 .....................................\n",
      "[CV] ............ criterion=gini, max_depth=8, score=0.985574 -   0.0s\n",
      "[Parallel(n_jobs=1)]: Done  60 out of  60 | elapsed:    1.7s remaining:    0.0s\n",
      "[CV] criterion=gini, max_depth=9 .....................................\n",
      "[CV] ............ criterion=gini, max_depth=9, score=0.954058 -   0.0s\n",
      "[Parallel(n_jobs=1)]: Done  61 out of  61 | elapsed:    1.7s remaining:    0.0s\n",
      "[CV] criterion=gini, max_depth=9 .....................................\n",
      "[CV] ............ criterion=gini, max_depth=9, score=0.969396 -   0.0s\n",
      "[Parallel(n_jobs=1)]: Done  62 out of  62 | elapsed:    1.8s remaining:    0.0s\n",
      "[CV] criterion=gini, max_depth=9 .....................................\n",
      "[CV] ............ criterion=gini, max_depth=9, score=0.880363 -   0.0s\n",
      "[Parallel(n_jobs=1)]: Done  63 out of  63 | elapsed:    1.8s remaining:    0.0s\n",
      "[CV] criterion=gini, max_depth=9 .....................................\n",
      "[CV] ............ criterion=gini, max_depth=9, score=0.977696 -   0.0s\n",
      "[Parallel(n_jobs=1)]: Done  64 out of  64 | elapsed:    1.8s remaining:    0.0s\n",
      "[CV] criterion=gini, max_depth=9 .....................................\n",
      "[CV] ............ criterion=gini, max_depth=9, score=0.975121 -   0.0s\n",
      "[Parallel(n_jobs=1)]: Done  65 out of  65 | elapsed:    1.9s remaining:    0.0s\n",
      "[CV] criterion=gini, max_depth=9 .....................................\n",
      "[CV] ............ criterion=gini, max_depth=9, score=0.969488 -   0.0s\n",
      "[Parallel(n_jobs=1)]: Done  66 out of  66 | elapsed:    1.9s remaining:    0.0s\n",
      "[CV] criterion=gini, max_depth=9 .....................................\n",
      "[CV] ............ criterion=gini, max_depth=9, score=0.963004 -   0.0s\n",
      "[Parallel(n_jobs=1)]: Done  67 out of  67 | elapsed:    2.0s remaining:    0.0s\n",
      "[CV] criterion=gini, max_depth=9 .....................................\n",
      "[CV] ............ criterion=gini, max_depth=9, score=0.971094 -   0.0s\n",
      "[Parallel(n_jobs=1)]: Done  68 out of  68 | elapsed:    2.0s remaining:    0.0s\n",
      "[CV] criterion=gini, max_depth=9 .....................................\n",
      "[CV] ............ criterion=gini, max_depth=9, score=0.959164 -   0.0s\n",
      "[Parallel(n_jobs=1)]: Done  69 out of  69 | elapsed:    2.0s remaining:    0.0s\n",
      "[CV] criterion=gini, max_depth=9 .....................................\n",
      "[CV] ............ criterion=gini, max_depth=9, score=0.984901 -   0.0s\n",
      "[Parallel(n_jobs=1)]: Done  70 out of  70 | elapsed:    2.1s remaining:    0.0s\n",
      "[CV] criterion=entropy, max_depth=3 ..................................\n",
      "[CV] ......... criterion=entropy, max_depth=3, score=0.685103 -   0.0s\n",
      "[Parallel(n_jobs=1)]: Done  71 out of  71 | elapsed:    2.1s remaining:    0.0s\n",
      "[CV] criterion=entropy, max_depth=3 ..................................\n",
      "[CV] ......... criterion=entropy, max_depth=3, score=0.690274 -   0.0s\n",
      "[Parallel(n_jobs=1)]: Done  72 out of  72 | elapsed:    2.1s remaining:    0.0s\n",
      "[CV] criterion=entropy, max_depth=3 ..................................\n",
      "[CV] ......... criterion=entropy, max_depth=3, score=0.604176 -   0.0s\n",
      "[Parallel(n_jobs=1)]: Done  73 out of  73 | elapsed:    2.2s remaining:    0.0s\n",
      "[CV] criterion=entropy, max_depth=3 ..................................\n",
      "[CV] ......... criterion=entropy, max_depth=3, score=0.693711 -   0.0s\n",
      "[Parallel(n_jobs=1)]: Done  74 out of  74 | elapsed:    2.2s remaining:    0.0s\n",
      "[CV] criterion=entropy, max_depth=3 ..................................\n",
      "[CV] ......... criterion=entropy, max_depth=3, score=0.703529 -   0.0s\n",
      "[Parallel(n_jobs=1)]: Done  75 out of  75 | elapsed:    2.2s remaining:    0.0s\n",
      "[CV] criterion=entropy, max_depth=3 ..................................\n",
      "[CV] ......... criterion=entropy, max_depth=3, score=0.643285 -   0.0s\n",
      "[Parallel(n_jobs=1)]: Done  76 out of  76 | elapsed:    2.2s remaining:    0.0s\n",
      "[CV] criterion=entropy, max_depth=3 ..................................\n",
      "[CV] ......... criterion=entropy, max_depth=3, score=0.651288 -   0.0s\n",
      "[Parallel(n_jobs=1)]: Done  77 out of  77 | elapsed:    2.2s remaining:    0.0s\n",
      "[CV] criterion=entropy, max_depth=3 ..................................\n",
      "[CV] ......... criterion=entropy, max_depth=3, score=0.703643 -   0.0s\n",
      "[Parallel(n_jobs=1)]: Done  78 out of  78 | elapsed:    2.3s remaining:    0.0s\n",
      "[CV] criterion=entropy, max_depth=3 ..................................\n",
      "[CV] ......... criterion=entropy, max_depth=3, score=0.686574 -   0.0s\n",
      "[Parallel(n_jobs=1)]: Done  79 out of  79 | elapsed:    2.3s remaining:    0.0s\n",
      "[CV] criterion=entropy, max_depth=3 ..................................\n"
     ]
    },
    {
     "name": "stdout",
     "output_type": "stream",
     "text": [
      "[CV] ......... criterion=entropy, max_depth=3, score=0.668973 -   0.0s\n",
      "[Parallel(n_jobs=1)]: Done  80 out of  80 | elapsed:    2.3s remaining:    0.0s\n",
      "[CV] criterion=entropy, max_depth=4 ..................................\n",
      "[CV] ......... criterion=entropy, max_depth=4, score=0.846445 -   0.0s\n",
      "[Parallel(n_jobs=1)]: Done  81 out of  81 | elapsed:    2.3s remaining:    0.0s\n",
      "[CV] criterion=entropy, max_depth=4 ..................................\n",
      "[CV] ......... criterion=entropy, max_depth=4, score=0.835036 -   0.0s\n",
      "[Parallel(n_jobs=1)]: Done  82 out of  82 | elapsed:    2.4s remaining:    0.0s\n",
      "[CV] criterion=entropy, max_depth=4 ..................................\n",
      "[CV] ......... criterion=entropy, max_depth=4, score=0.719544 -   0.0s\n",
      "[Parallel(n_jobs=1)]: Done  83 out of  83 | elapsed:    2.4s remaining:    0.0s\n",
      "[CV] criterion=entropy, max_depth=4 ..................................\n",
      "[CV] ......... criterion=entropy, max_depth=4, score=0.835283 -   0.0s\n",
      "[Parallel(n_jobs=1)]: Done  84 out of  84 | elapsed:    2.4s remaining:    0.0s\n",
      "[CV] criterion=entropy, max_depth=4 ..................................\n",
      "[CV] ......... criterion=entropy, max_depth=4, score=0.864871 -   0.0s\n",
      "[Parallel(n_jobs=1)]: Done  85 out of  85 | elapsed:    2.4s remaining:    0.0s\n",
      "[CV] criterion=entropy, max_depth=4 ..................................\n",
      "[CV] ......... criterion=entropy, max_depth=4, score=0.862142 -   0.0s\n",
      "[Parallel(n_jobs=1)]: Done  86 out of  86 | elapsed:    2.4s remaining:    0.0s\n",
      "[CV] criterion=entropy, max_depth=4 ..................................\n",
      "[CV] ......... criterion=entropy, max_depth=4, score=0.828840 -   0.0s\n",
      "[Parallel(n_jobs=1)]: Done  87 out of  87 | elapsed:    2.5s remaining:    0.0s\n",
      "[CV] criterion=entropy, max_depth=4 ..................................\n",
      "[CV] ......... criterion=entropy, max_depth=4, score=0.854076 -   0.0s\n",
      "[Parallel(n_jobs=1)]: Done  88 out of  88 | elapsed:    2.5s remaining:    0.0s\n",
      "[CV] criterion=entropy, max_depth=4 ..................................\n",
      "[CV] ......... criterion=entropy, max_depth=4, score=0.810485 -   0.0s\n",
      "[Parallel(n_jobs=1)]: Done  89 out of  89 | elapsed:    2.5s remaining:    0.0s\n",
      "[CV] criterion=entropy, max_depth=4 ..................................\n",
      "[CV] ......... criterion=entropy, max_depth=4, score=0.859838 -   0.0s\n",
      "[Parallel(n_jobs=1)]: Done  90 out of  90 | elapsed:    2.5s remaining:    0.0s\n",
      "[CV] criterion=entropy, max_depth=5 ..................................\n",
      "[CV] ......... criterion=entropy, max_depth=5, score=0.967641 -   0.0s\n",
      "[Parallel(n_jobs=1)]: Done  91 out of  91 | elapsed:    2.6s remaining:    0.0s\n",
      "[CV] criterion=entropy, max_depth=5 ..................................\n",
      "[CV] ......... criterion=entropy, max_depth=5, score=0.861445 -   0.0s\n",
      "[Parallel(n_jobs=1)]: Done  92 out of  92 | elapsed:    2.6s remaining:    0.0s\n",
      "[CV] criterion=entropy, max_depth=5 ..................................\n",
      "[CV] ......... criterion=entropy, max_depth=5, score=0.793916 -   0.0s\n",
      "[Parallel(n_jobs=1)]: Done  93 out of  93 | elapsed:    2.6s remaining:    0.0s\n",
      "[CV] criterion=entropy, max_depth=5 ..................................\n",
      "[CV] ......... criterion=entropy, max_depth=5, score=0.967898 -   0.0s\n",
      "[Parallel(n_jobs=1)]: Done  94 out of  94 | elapsed:    2.7s remaining:    0.0s\n",
      "[CV] criterion=entropy, max_depth=5 ..................................\n",
      "[CV] ......... criterion=entropy, max_depth=5, score=0.964594 -   0.0s\n",
      "[Parallel(n_jobs=1)]: Done  95 out of  95 | elapsed:    2.7s remaining:    0.0s\n",
      "[CV] criterion=entropy, max_depth=5 ..................................\n",
      "[CV] ......... criterion=entropy, max_depth=5, score=0.896009 -   0.0s\n",
      "[Parallel(n_jobs=1)]: Done  96 out of  96 | elapsed:    2.7s remaining:    0.0s\n",
      "[CV] criterion=entropy, max_depth=5 ..................................\n",
      "[CV] ......... criterion=entropy, max_depth=5, score=0.962594 -   0.0s\n",
      "[Parallel(n_jobs=1)]: Done  97 out of  97 | elapsed:    2.7s remaining:    0.0s\n",
      "[CV] criterion=entropy, max_depth=5 ..................................\n",
      "[CV] ......... criterion=entropy, max_depth=5, score=0.969536 -   0.0s\n",
      "[Parallel(n_jobs=1)]: Done  98 out of  98 | elapsed:    2.8s remaining:    0.0s\n",
      "[CV] criterion=entropy, max_depth=5 ..................................\n",
      "[CV] ......... criterion=entropy, max_depth=5, score=0.853963 -   0.0s\n",
      "[Parallel(n_jobs=1)]: Done  99 out of  99 | elapsed:    2.8s remaining:    0.0s\n",
      "[CV] criterion=entropy, max_depth=5 ..................................\n",
      "[CV] ......... criterion=entropy, max_depth=5, score=0.979329 -   0.0s\n",
      "[CV] criterion=entropy, max_depth=6 ..................................\n",
      "[CV] ......... criterion=entropy, max_depth=6, score=0.963691 -   0.0s\n",
      "[CV] criterion=entropy, max_depth=6 ..................................\n",
      "[CV] ......... criterion=entropy, max_depth=6, score=0.956417 -   0.0s\n",
      "[CV] criterion=entropy, max_depth=6 ..................................\n",
      "[CV] ......... criterion=entropy, max_depth=6, score=0.867621 -   0.0s\n",
      "[CV] criterion=entropy, max_depth=6 ..................................\n",
      "[CV] ......... criterion=entropy, max_depth=6, score=0.979347 -   0.0s\n",
      "[CV] criterion=entropy, max_depth=6 ..................................\n",
      "[CV] ......... criterion=entropy, max_depth=6, score=0.970924 -   0.0s\n",
      "[CV] criterion=entropy, max_depth=6 ..................................\n",
      "[CV] ......... criterion=entropy, max_depth=6, score=0.969621 -   0.0s\n",
      "[CV] criterion=entropy, max_depth=6 ..................................\n",
      "[CV] ......... criterion=entropy, max_depth=6, score=0.969806 -   0.0s\n",
      "[CV] criterion=entropy, max_depth=6 ..................................\n",
      "[CV] ......... criterion=entropy, max_depth=6, score=0.972714 -   0.0s\n",
      "[CV] criterion=entropy, max_depth=6 ..................................\n",
      "[CV] ......... criterion=entropy, max_depth=6, score=0.962157 -   0.0s\n",
      "[CV] criterion=entropy, max_depth=6 ..................................\n",
      "[CV] ......... criterion=entropy, max_depth=6, score=0.983855 -   0.0s\n",
      "[CV] criterion=entropy, max_depth=7 ..................................\n",
      "[CV] ......... criterion=entropy, max_depth=7, score=0.959947 -   0.0s\n",
      "[CV] criterion=entropy, max_depth=7 ..................................\n",
      "[CV] ......... criterion=entropy, max_depth=7, score=0.965743 -   0.0s\n",
      "[CV] criterion=entropy, max_depth=7 ..................................\n",
      "[CV] ......... criterion=entropy, max_depth=7, score=0.870791 -   0.0s\n",
      "[CV] criterion=entropy, max_depth=7 ..................................\n",
      "[CV] ......... criterion=entropy, max_depth=7, score=0.978506 -   0.0s\n",
      "[CV] criterion=entropy, max_depth=7 ..................................\n",
      "[CV] ......... criterion=entropy, max_depth=7, score=0.973797 -   0.0s\n",
      "[CV] criterion=entropy, max_depth=7 ..................................\n",
      "[CV] ......... criterion=entropy, max_depth=7, score=0.964902 -   0.0s\n",
      "[CV] criterion=entropy, max_depth=7 ..................................\n",
      "[CV] ......... criterion=entropy, max_depth=7, score=0.969611 -   0.0s\n",
      "[CV] criterion=entropy, max_depth=7 ..................................\n",
      "[CV] ......... criterion=entropy, max_depth=7, score=0.970526 -   0.0s\n",
      "[CV] criterion=entropy, max_depth=7 ..................................\n",
      "[CV] ......... criterion=entropy, max_depth=7, score=0.954407 -   0.0s\n",
      "[CV] criterion=entropy, max_depth=7 ..................................\n",
      "[CV] ......... criterion=entropy, max_depth=7, score=0.983886 -   0.0s\n",
      "[CV] criterion=entropy, max_depth=8 ..................................\n",
      "[CV] ......... criterion=entropy, max_depth=8, score=0.959526 -   0.0s\n",
      "[CV] criterion=entropy, max_depth=8 ..................................\n",
      "[CV] ......... criterion=entropy, max_depth=8, score=0.967405 -   0.0s\n",
      "[CV] criterion=entropy, max_depth=8 ..................................\n",
      "[CV] ......... criterion=entropy, max_depth=8, score=0.873551 -   0.0s\n",
      "[CV] criterion=entropy, max_depth=8 ..................................\n",
      "[CV] ......... criterion=entropy, max_depth=8, score=0.977706 -   0.0s\n",
      "[CV] criterion=entropy, max_depth=8 ..................................\n",
      "[CV] ......... criterion=entropy, max_depth=8, score=0.971920 -   0.0s\n",
      "[CV] criterion=entropy, max_depth=8 ..................................\n",
      "[CV] ......... criterion=entropy, max_depth=8, score=0.965589 -   0.0s\n",
      "[CV] criterion=entropy, max_depth=8 ..................................\n"
     ]
    },
    {
     "name": "stdout",
     "output_type": "stream",
     "text": [
      "[CV] ......... criterion=entropy, max_depth=8, score=0.965179 -   0.0s\n",
      "[CV] criterion=entropy, max_depth=8 ..................................\n",
      "[CV] ......... criterion=entropy, max_depth=8, score=0.974376 -   0.0s\n",
      "[CV] criterion=entropy, max_depth=8 ..................................\n",
      "[CV] ......... criterion=entropy, max_depth=8, score=0.960660 -   0.0s\n",
      "[CV] criterion=entropy, max_depth=8 ..................................\n",
      "[CV] ......... criterion=entropy, max_depth=8, score=0.984383 -   0.0s\n",
      "[CV] criterion=entropy, max_depth=9 ..................................\n",
      "[CV] ......... criterion=entropy, max_depth=9, score=0.960521 -   0.0s\n",
      "[CV] criterion=entropy, max_depth=9 ..................................\n",
      "[CV] ......... criterion=entropy, max_depth=9, score=0.965918 -   0.0s\n",
      "[CV] criterion=entropy, max_depth=9 ..................................\n",
      "[CV] ......... criterion=entropy, max_depth=9, score=0.879778 -   0.0s\n",
      "[CV] criterion=entropy, max_depth=9 ..................................\n",
      "[CV] ......... criterion=entropy, max_depth=9, score=0.972299 -   0.0s\n",
      "[CV] criterion=entropy, max_depth=9 ..................................\n",
      "[CV] ......... criterion=entropy, max_depth=9, score=0.970586 -   0.0s\n",
      "[CV] criterion=entropy, max_depth=9 ..................................\n",
      "[CV] ......... criterion=entropy, max_depth=9, score=0.967169 -   0.0s\n",
      "[CV] criterion=entropy, max_depth=9 ..................................\n",
      "[CV] ......... criterion=entropy, max_depth=9, score=0.962337 -   0.0s\n",
      "[CV] criterion=entropy, max_depth=9 ..................................\n",
      "[CV] ......... criterion=entropy, max_depth=9, score=0.973633 -   0.0s\n",
      "[CV] criterion=entropy, max_depth=9 ..................................\n",
      "[CV] ......... criterion=entropy, max_depth=9, score=0.963024 -   0.0s\n",
      "[CV] criterion=entropy, max_depth=9 ..................................\n",
      "[CV] ......... criterion=entropy, max_depth=9, score=0.981048 -   0.0s\n",
      "[Parallel(n_jobs=1)]: Done 140 out of 140 | elapsed:    4.4s finished\n"
     ]
    },
    {
     "data": {
      "text/plain": [
       "GridSearchCV(cv=10, error_score='raise',\n",
       "       estimator=DecisionTreeClassifier(class_weight=None, criterion='gini', max_depth=50,\n",
       "            max_features=None, max_leaf_nodes=None,\n",
       "            min_impurity_split=1e-07, min_samples_leaf=10,\n",
       "            min_samples_split=100, min_weight_fraction_leaf=0.0,\n",
       "            presort=False, random_state=None, splitter='best'),\n",
       "       fit_params={}, iid=True, n_jobs=1,\n",
       "       param_grid={'criterion': ['gini', 'entropy'], 'max_depth': array([3, 4, 5, 6, 7, 8, 9])},\n",
       "       pre_dispatch='2*n_jobs', refit=True, scoring='roc_auc', verbose=100)"
      ]
     },
     "execution_count": 202,
     "metadata": {},
     "output_type": "execute_result"
    }
   ],
   "source": [
    "tree_cv.fit(X_train,y_train)"
   ]
  },
  {
   "cell_type": "code",
   "execution_count": 203,
   "metadata": {},
   "outputs": [
    {
     "name": "stdout",
     "output_type": "stream",
     "text": [
      "Tuned Decision Tree parameter : {'criterion': 'gini', 'max_depth': 8}\n"
     ]
    }
   ],
   "source": [
    "print(\"Tuned Decision Tree parameter : {}\".format(tree_cv.best_params_))"
   ]
  },
  {
   "cell_type": "markdown",
   "metadata": {},
   "source": [
    "## CART-Building the model with best parameters"
   ]
  },
  {
   "cell_type": "code",
   "execution_count": 204,
   "metadata": {},
   "outputs": [],
   "source": [
    "classifier = tree_cv.best_estimator_"
   ]
  },
  {
   "cell_type": "code",
   "execution_count": 205,
   "metadata": {},
   "outputs": [],
   "source": [
    "classifier=classifier.fit(X_train,y_train)"
   ]
  },
  {
   "cell_type": "code",
   "execution_count": 206,
   "metadata": {},
   "outputs": [
    {
     "data": {
      "text/plain": [
       "0.94490781387181744"
      ]
     },
     "execution_count": 206,
     "metadata": {},
     "output_type": "execute_result"
    }
   ],
   "source": [
    "pred_y_train = clf.predict(X_train)\n",
    "score_h = accuracy_score(y_train, pred_y_train)\n",
    "score_h"
   ]
  },
  {
   "cell_type": "code",
   "execution_count": null,
   "metadata": {},
   "outputs": [],
   "source": []
  },
  {
   "cell_type": "code",
   "execution_count": 207,
   "metadata": {},
   "outputs": [
    {
     "data": {
      "text/plain": [
       "0.98591063617425645"
      ]
     },
     "execution_count": 207,
     "metadata": {},
     "output_type": "execute_result"
    }
   ],
   "source": [
    "y_train_prob = classifier.predict_proba(X_train)\n",
    "fpr, tpr, thresholds = roc_curve(y_train, y_train_prob[:,1])\n",
    "auc_train = auc(fpr, tpr)\n",
    "auc_train"
   ]
  },
  {
   "cell_type": "code",
   "execution_count": 208,
   "metadata": {},
   "outputs": [
    {
     "data": {
      "text/plain": [
       "0.93855606758832566"
      ]
     },
     "execution_count": 208,
     "metadata": {},
     "output_type": "execute_result"
    }
   ],
   "source": [
    "pred_y_test = clf.predict(X_test)\n",
    "score_h = accuracy_score(y_test, pred_y_test)\n",
    "score_h"
   ]
  },
  {
   "cell_type": "code",
   "execution_count": 209,
   "metadata": {},
   "outputs": [
    {
     "data": {
      "text/plain": [
       "0.97394585042856563"
      ]
     },
     "execution_count": 209,
     "metadata": {},
     "output_type": "execute_result"
    }
   ],
   "source": [
    "y_test_prob = classifier.predict_proba(X_test)\n",
    "fpr, tpr, thresholds = roc_curve(y_test, y_test_prob[:,1])\n",
    "auc_test = auc(fpr, tpr)\n",
    "auc_test"
   ]
  },
  {
   "cell_type": "markdown",
   "metadata": {},
   "source": [
    "#### Rank Ordering"
   ]
  },
  {
   "cell_type": "code",
   "execution_count": 210,
   "metadata": {},
   "outputs": [
    {
     "name": "stderr",
     "output_type": "stream",
     "text": [
      "C:\\Users\\hp\\Anaconda3\\lib\\site-packages\\ipykernel_launcher.py:2: SettingWithCopyWarning: \n",
      "A value is trying to be set on a copy of a slice from a DataFrame.\n",
      "Try using .loc[row_indexer,col_indexer] = value instead\n",
      "\n",
      "See the caveats in the documentation: http://pandas.pydata.org/pandas-docs/stable/indexing.html#indexing-view-versus-copy\n",
      "  \n"
     ]
    }
   ],
   "source": [
    "drank=X_train\n",
    "drank['partyWinning']=y_train"
   ]
  },
  {
   "cell_type": "code",
   "execution_count": 211,
   "metadata": {},
   "outputs": [
    {
     "name": "stderr",
     "output_type": "stream",
     "text": [
      "C:\\Users\\hp\\Anaconda3\\lib\\site-packages\\ipykernel_launcher.py:1: SettingWithCopyWarning: \n",
      "A value is trying to be set on a copy of a slice from a DataFrame.\n",
      "Try using .loc[row_indexer,col_indexer] = value instead\n",
      "\n",
      "See the caveats in the documentation: http://pandas.pydata.org/pandas-docs/stable/indexing.html#indexing-view-versus-copy\n",
      "  \"\"\"Entry point for launching an IPython kernel.\n"
     ]
    },
    {
     "data": {
      "text/plain": [
       "2075    0.028926\n",
       "9638    0.998425\n",
       "5444    0.363636\n",
       "3348    1.000000\n",
       "8343    0.992515\n",
       "6828    0.992515\n",
       "7662    0.002439\n",
       "4758    0.473684\n",
       "9329    0.992000\n",
       "1463    1.000000\n",
       "7521    1.000000\n",
       "6003    0.805556\n",
       "4950    0.000000\n",
       "937     0.000000\n",
       "2083    0.058824\n",
       "3529    1.000000\n",
       "4958    0.998425\n",
       "7943    1.000000\n",
       "271     0.992515\n",
       "8217    0.998425\n",
       "1477    0.346939\n",
       "2287    0.000000\n",
       "9396    0.454545\n",
       "1498    1.000000\n",
       "8893    0.998425\n",
       "6220    0.992000\n",
       "8982    0.086093\n",
       "5660    0.473684\n",
       "957     0.050000\n",
       "7586    1.000000\n",
       "          ...   \n",
       "6124    0.992515\n",
       "5424    0.086093\n",
       "7267    0.028926\n",
       "721     0.989474\n",
       "7927    0.992515\n",
       "4021    1.000000\n",
       "9741    0.805556\n",
       "8720    0.998425\n",
       "4836    0.998425\n",
       "6350    0.508772\n",
       "5800    0.002439\n",
       "6894    0.000000\n",
       "3658    0.009709\n",
       "872     0.000000\n",
       "5451    0.222222\n",
       "5131    0.058824\n",
       "2295    0.992515\n",
       "510     0.931034\n",
       "3462    0.992515\n",
       "9443    0.916667\n",
       "5572    0.086093\n",
       "89      0.840000\n",
       "9611    0.086093\n",
       "9415    0.992515\n",
       "161     0.028926\n",
       "3306    1.000000\n",
       "9460    0.222222\n",
       "3143    1.000000\n",
       "8621    0.222222\n",
       "8887    0.222222\n",
       "Name: prob_score, Length: 4556, dtype: float64"
      ]
     },
     "execution_count": 211,
     "metadata": {},
     "output_type": "execute_result"
    }
   ],
   "source": [
    "drank[\"prob_score\"] = y_train_prob[:,1]\n",
    "drank[\"prob_score\"] "
   ]
  },
  {
   "cell_type": "markdown",
   "metadata": {},
   "source": [
    "#### scoring step\n",
    "#### decile code"
   ]
  },
  {
   "cell_type": "code",
   "execution_count": 212,
   "metadata": {},
   "outputs": [],
   "source": [
    "def deciles(x):\n",
    "    decile = pd.Series(index=[0,1,2,3,4,5,6,7,8,9])\n",
    "    for i in np.arange(0.1,1.1,0.1):\n",
    "        decile[int(i*10)]=x.quantile(i)\n",
    "    def z(x):\n",
    "        if x<decile[1]: return(1)\n",
    "        elif x<decile[2]: return(2)\n",
    "        elif x<decile[3]: return(3)\n",
    "        elif x<decile[4]: return(4)\n",
    "        elif x<decile[5]: return(5)\n",
    "        elif x<decile[6]: return(6)\n",
    "        elif x<decile[7]: return(7)\n",
    "        elif x<decile[8]: return(8)\n",
    "        elif x<decile[9]: return(9)\n",
    "        elif x<=decile[10]: return(10)\n",
    "        else:return(np.NaN)\n",
    "    s=x.map(z)\n",
    "    return(s) "
   ]
  },
  {
   "cell_type": "code",
   "execution_count": 213,
   "metadata": {},
   "outputs": [],
   "source": [
    "def Rank_Ordering(X,y,Target):\n",
    "    X['decile']=deciles(X[y])\n",
    "    Rank=X.groupby('decile').apply(lambda x: pd.Series([\n",
    "        np.min(x[y]),\n",
    "        np.max(x[y]),\n",
    "        np.mean(x[y]),\n",
    "        np.size(x[y]),\n",
    "        np.sum(x[Target]),\n",
    "        np.size(x[Target][x[Target]==0]),\n",
    "        ],\n",
    "        index=([\"min_resp\",\"max_resp\",\"avg_resp\",\n",
    "                \"cnt\",\"cnt_resp\",\"cnt_non_resp\"])\n",
    "        )).reset_index()\n",
    "    Rank = Rank.sort_values(by='decile',ascending=False)\n",
    "    Rank[\"rrate\"] = Rank[\"cnt_resp\"]*100/Rank[\"cnt\"]\n",
    "    Rank[\"cum_resp\"] = np.cumsum(Rank[\"cnt_resp\"])\n",
    "    Rank[\"cum_non_resp\"] = np.cumsum(Rank[\"cnt_non_resp\"])\n",
    "    Rank[\"cum_resp_pct\"] = Rank[\"cum_resp\"]/np.sum(Rank[\"cnt_resp\"])\n",
    "    Rank[\"cum_non_resp_pct\"]=Rank[\"cum_non_resp\"]/np.sum(Rank[\"cnt_non_resp\"])\n",
    "    Rank[\"KS\"] = Rank[\"cum_resp_pct\"] - Rank[\"cum_non_resp_pct\"]\n",
    "    Rank\n",
    "    return(Rank)"
   ]
  },
  {
   "cell_type": "code",
   "execution_count": 214,
   "metadata": {},
   "outputs": [
    {
     "name": "stderr",
     "output_type": "stream",
     "text": [
      "C:\\Users\\hp\\Anaconda3\\lib\\site-packages\\ipykernel_launcher.py:2: SettingWithCopyWarning: \n",
      "A value is trying to be set on a copy of a slice from a DataFrame.\n",
      "Try using .loc[row_indexer,col_indexer] = value instead\n",
      "\n",
      "See the caveats in the documentation: http://pandas.pydata.org/pandas-docs/stable/indexing.html#indexing-view-versus-copy\n",
      "  \n"
     ]
    },
    {
     "data": {
      "text/html": [
       "<div>\n",
       "<style scoped>\n",
       "    .dataframe tbody tr th:only-of-type {\n",
       "        vertical-align: middle;\n",
       "    }\n",
       "\n",
       "    .dataframe tbody tr th {\n",
       "        vertical-align: top;\n",
       "    }\n",
       "\n",
       "    .dataframe thead th {\n",
       "        text-align: right;\n",
       "    }\n",
       "</style>\n",
       "<table border=\"1\" class=\"dataframe\">\n",
       "  <thead>\n",
       "    <tr style=\"text-align: right;\">\n",
       "      <th></th>\n",
       "      <th>decile</th>\n",
       "      <th>min_resp</th>\n",
       "      <th>max_resp</th>\n",
       "      <th>avg_resp</th>\n",
       "      <th>cnt</th>\n",
       "      <th>cnt_resp</th>\n",
       "      <th>cnt_non_resp</th>\n",
       "      <th>rrate</th>\n",
       "      <th>cum_resp</th>\n",
       "      <th>cum_non_resp</th>\n",
       "      <th>cum_resp_pct</th>\n",
       "      <th>cum_non_resp_pct</th>\n",
       "      <th>KS</th>\n",
       "    </tr>\n",
       "  </thead>\n",
       "  <tbody>\n",
       "    <tr>\n",
       "      <th>8</th>\n",
       "      <td>10</td>\n",
       "      <td>1.000000</td>\n",
       "      <td>1.000000</td>\n",
       "      <td>1.000000</td>\n",
       "      <td>732.0</td>\n",
       "      <td>732.0</td>\n",
       "      <td>0.0</td>\n",
       "      <td>100.000000</td>\n",
       "      <td>732.0</td>\n",
       "      <td>0.0</td>\n",
       "      <td>0.256932</td>\n",
       "      <td>0.000000</td>\n",
       "      <td>0.256932</td>\n",
       "    </tr>\n",
       "    <tr>\n",
       "      <th>7</th>\n",
       "      <td>9</td>\n",
       "      <td>0.998425</td>\n",
       "      <td>0.998425</td>\n",
       "      <td>0.998425</td>\n",
       "      <td>635.0</td>\n",
       "      <td>634.0</td>\n",
       "      <td>1.0</td>\n",
       "      <td>99.842520</td>\n",
       "      <td>1366.0</td>\n",
       "      <td>1.0</td>\n",
       "      <td>0.479466</td>\n",
       "      <td>0.000586</td>\n",
       "      <td>0.478881</td>\n",
       "    </tr>\n",
       "    <tr>\n",
       "      <th>6</th>\n",
       "      <td>7</td>\n",
       "      <td>0.992515</td>\n",
       "      <td>0.992515</td>\n",
       "      <td>0.992515</td>\n",
       "      <td>668.0</td>\n",
       "      <td>663.0</td>\n",
       "      <td>5.0</td>\n",
       "      <td>99.251497</td>\n",
       "      <td>2029.0</td>\n",
       "      <td>6.0</td>\n",
       "      <td>0.712180</td>\n",
       "      <td>0.003515</td>\n",
       "      <td>0.708665</td>\n",
       "    </tr>\n",
       "    <tr>\n",
       "      <th>5</th>\n",
       "      <td>6</td>\n",
       "      <td>0.992000</td>\n",
       "      <td>0.992000</td>\n",
       "      <td>0.992000</td>\n",
       "      <td>250.0</td>\n",
       "      <td>248.0</td>\n",
       "      <td>2.0</td>\n",
       "      <td>99.200000</td>\n",
       "      <td>2277.0</td>\n",
       "      <td>8.0</td>\n",
       "      <td>0.799228</td>\n",
       "      <td>0.004687</td>\n",
       "      <td>0.794541</td>\n",
       "    </tr>\n",
       "    <tr>\n",
       "      <th>4</th>\n",
       "      <td>5</td>\n",
       "      <td>0.508772</td>\n",
       "      <td>0.989474</td>\n",
       "      <td>0.843424</td>\n",
       "      <td>479.0</td>\n",
       "      <td>404.0</td>\n",
       "      <td>75.0</td>\n",
       "      <td>84.342380</td>\n",
       "      <td>2681.0</td>\n",
       "      <td>83.0</td>\n",
       "      <td>0.941032</td>\n",
       "      <td>0.048623</td>\n",
       "      <td>0.892409</td>\n",
       "    </tr>\n",
       "    <tr>\n",
       "      <th>3</th>\n",
       "      <td>4</td>\n",
       "      <td>0.130952</td>\n",
       "      <td>0.473684</td>\n",
       "      <td>0.269488</td>\n",
       "      <td>449.0</td>\n",
       "      <td>121.0</td>\n",
       "      <td>328.0</td>\n",
       "      <td>26.948775</td>\n",
       "      <td>2802.0</td>\n",
       "      <td>411.0</td>\n",
       "      <td>0.983503</td>\n",
       "      <td>0.240773</td>\n",
       "      <td>0.742730</td>\n",
       "    </tr>\n",
       "    <tr>\n",
       "      <th>2</th>\n",
       "      <td>3</td>\n",
       "      <td>0.050000</td>\n",
       "      <td>0.105263</td>\n",
       "      <td>0.084282</td>\n",
       "      <td>439.0</td>\n",
       "      <td>37.0</td>\n",
       "      <td>402.0</td>\n",
       "      <td>8.428246</td>\n",
       "      <td>2839.0</td>\n",
       "      <td>813.0</td>\n",
       "      <td>0.996490</td>\n",
       "      <td>0.476274</td>\n",
       "      <td>0.520216</td>\n",
       "    </tr>\n",
       "    <tr>\n",
       "      <th>1</th>\n",
       "      <td>2</td>\n",
       "      <td>0.002439</td>\n",
       "      <td>0.028926</td>\n",
       "      <td>0.012376</td>\n",
       "      <td>808.0</td>\n",
       "      <td>10.0</td>\n",
       "      <td>798.0</td>\n",
       "      <td>1.237624</td>\n",
       "      <td>2849.0</td>\n",
       "      <td>1611.0</td>\n",
       "      <td>1.000000</td>\n",
       "      <td>0.943761</td>\n",
       "      <td>0.056239</td>\n",
       "    </tr>\n",
       "    <tr>\n",
       "      <th>0</th>\n",
       "      <td>1</td>\n",
       "      <td>0.000000</td>\n",
       "      <td>0.000000</td>\n",
       "      <td>0.000000</td>\n",
       "      <td>96.0</td>\n",
       "      <td>0.0</td>\n",
       "      <td>96.0</td>\n",
       "      <td>0.000000</td>\n",
       "      <td>2849.0</td>\n",
       "      <td>1707.0</td>\n",
       "      <td>1.000000</td>\n",
       "      <td>1.000000</td>\n",
       "      <td>0.000000</td>\n",
       "    </tr>\n",
       "  </tbody>\n",
       "</table>\n",
       "</div>"
      ],
      "text/plain": [
       "   decile  min_resp  max_resp  avg_resp    cnt  cnt_resp  cnt_non_resp  \\\n",
       "8      10  1.000000  1.000000  1.000000  732.0     732.0           0.0   \n",
       "7       9  0.998425  0.998425  0.998425  635.0     634.0           1.0   \n",
       "6       7  0.992515  0.992515  0.992515  668.0     663.0           5.0   \n",
       "5       6  0.992000  0.992000  0.992000  250.0     248.0           2.0   \n",
       "4       5  0.508772  0.989474  0.843424  479.0     404.0          75.0   \n",
       "3       4  0.130952  0.473684  0.269488  449.0     121.0         328.0   \n",
       "2       3  0.050000  0.105263  0.084282  439.0      37.0         402.0   \n",
       "1       2  0.002439  0.028926  0.012376  808.0      10.0         798.0   \n",
       "0       1  0.000000  0.000000  0.000000   96.0       0.0          96.0   \n",
       "\n",
       "        rrate  cum_resp  cum_non_resp  cum_resp_pct  cum_non_resp_pct  \\\n",
       "8  100.000000     732.0           0.0      0.256932          0.000000   \n",
       "7   99.842520    1366.0           1.0      0.479466          0.000586   \n",
       "6   99.251497    2029.0           6.0      0.712180          0.003515   \n",
       "5   99.200000    2277.0           8.0      0.799228          0.004687   \n",
       "4   84.342380    2681.0          83.0      0.941032          0.048623   \n",
       "3   26.948775    2802.0         411.0      0.983503          0.240773   \n",
       "2    8.428246    2839.0         813.0      0.996490          0.476274   \n",
       "1    1.237624    2849.0        1611.0      1.000000          0.943761   \n",
       "0    0.000000    2849.0        1707.0      1.000000          1.000000   \n",
       "\n",
       "         KS  \n",
       "8  0.256932  \n",
       "7  0.478881  \n",
       "6  0.708665  \n",
       "5  0.794541  \n",
       "4  0.892409  \n",
       "3  0.742730  \n",
       "2  0.520216  \n",
       "1  0.056239  \n",
       "0  0.000000  "
      ]
     },
     "execution_count": 214,
     "metadata": {},
     "output_type": "execute_result"
    }
   ],
   "source": [
    "Rank = Rank_Ordering(drank,\"prob_score\",\"partyWinning\")\n",
    "Rank"
   ]
  },
  {
   "cell_type": "code",
   "execution_count": 215,
   "metadata": {},
   "outputs": [
    {
     "data": {
      "text/plain": [
       "0.3641130184150296"
      ]
     },
     "execution_count": 215,
     "metadata": {},
     "output_type": "execute_result"
    }
   ],
   "source": [
    "def gini(list_of_values):\n",
    "    sorted_list = sorted(list_of_values)\n",
    "    height, area = 0, 0\n",
    "    for value in sorted_list:\n",
    "        height += value\n",
    "        area += height - value / 2.\n",
    "    fair_area = height * len(list_of_values) / 2.\n",
    "    return (fair_area - area) / fair_area\n",
    "\n",
    "gini(drank[\"prob_score\"])"
   ]
  },
  {
   "cell_type": "markdown",
   "metadata": {},
   "source": [
    "#### Let us see the Rank Ordering on Test Data"
   ]
  },
  {
   "cell_type": "code",
   "execution_count": 216,
   "metadata": {},
   "outputs": [
    {
     "name": "stderr",
     "output_type": "stream",
     "text": [
      "C:\\Users\\hp\\Anaconda3\\lib\\site-packages\\ipykernel_launcher.py:2: SettingWithCopyWarning: \n",
      "A value is trying to be set on a copy of a slice from a DataFrame.\n",
      "Try using .loc[row_indexer,col_indexer] = value instead\n",
      "\n",
      "See the caveats in the documentation: http://pandas.pydata.org/pandas-docs/stable/indexing.html#indexing-view-versus-copy\n",
      "  \n"
     ]
    }
   ],
   "source": [
    "dranktest=X_test\n",
    "dranktest['partyWinning']=y_test"
   ]
  },
  {
   "cell_type": "code",
   "execution_count": 217,
   "metadata": {},
   "outputs": [
    {
     "name": "stderr",
     "output_type": "stream",
     "text": [
      "C:\\Users\\hp\\Anaconda3\\lib\\site-packages\\ipykernel_launcher.py:1: SettingWithCopyWarning: \n",
      "A value is trying to be set on a copy of a slice from a DataFrame.\n",
      "Try using .loc[row_indexer,col_indexer] = value instead\n",
      "\n",
      "See the caveats in the documentation: http://pandas.pydata.org/pandas-docs/stable/indexing.html#indexing-view-versus-copy\n",
      "  \"\"\"Entry point for launching an IPython kernel.\n"
     ]
    }
   ],
   "source": [
    "dranktest[\"prob_score\"] = y_test_prob[:,1]"
   ]
  },
  {
   "cell_type": "code",
   "execution_count": 218,
   "metadata": {},
   "outputs": [
    {
     "name": "stderr",
     "output_type": "stream",
     "text": [
      "C:\\Users\\hp\\Anaconda3\\lib\\site-packages\\ipykernel_launcher.py:2: SettingWithCopyWarning: \n",
      "A value is trying to be set on a copy of a slice from a DataFrame.\n",
      "Try using .loc[row_indexer,col_indexer] = value instead\n",
      "\n",
      "See the caveats in the documentation: http://pandas.pydata.org/pandas-docs/stable/indexing.html#indexing-view-versus-copy\n",
      "  \n"
     ]
    },
    {
     "data": {
      "text/html": [
       "<div>\n",
       "<style scoped>\n",
       "    .dataframe tbody tr th:only-of-type {\n",
       "        vertical-align: middle;\n",
       "    }\n",
       "\n",
       "    .dataframe tbody tr th {\n",
       "        vertical-align: top;\n",
       "    }\n",
       "\n",
       "    .dataframe thead th {\n",
       "        text-align: right;\n",
       "    }\n",
       "</style>\n",
       "<table border=\"1\" class=\"dataframe\">\n",
       "  <thead>\n",
       "    <tr style=\"text-align: right;\">\n",
       "      <th></th>\n",
       "      <th>decile</th>\n",
       "      <th>min_resp</th>\n",
       "      <th>max_resp</th>\n",
       "      <th>avg_resp</th>\n",
       "      <th>cnt</th>\n",
       "      <th>cnt_resp</th>\n",
       "      <th>cnt_non_resp</th>\n",
       "      <th>rrate</th>\n",
       "      <th>cum_resp</th>\n",
       "      <th>cum_non_resp</th>\n",
       "      <th>cum_resp_pct</th>\n",
       "      <th>cum_non_resp_pct</th>\n",
       "      <th>KS</th>\n",
       "    </tr>\n",
       "  </thead>\n",
       "  <tbody>\n",
       "    <tr>\n",
       "      <th>8</th>\n",
       "      <td>10</td>\n",
       "      <td>1.000000</td>\n",
       "      <td>1.000000</td>\n",
       "      <td>1.000000</td>\n",
       "      <td>296.0</td>\n",
       "      <td>293.0</td>\n",
       "      <td>3.0</td>\n",
       "      <td>98.986486</td>\n",
       "      <td>293.0</td>\n",
       "      <td>3.0</td>\n",
       "      <td>0.237055</td>\n",
       "      <td>0.004184</td>\n",
       "      <td>0.232871</td>\n",
       "    </tr>\n",
       "    <tr>\n",
       "      <th>7</th>\n",
       "      <td>9</td>\n",
       "      <td>0.998425</td>\n",
       "      <td>0.998425</td>\n",
       "      <td>0.998425</td>\n",
       "      <td>289.0</td>\n",
       "      <td>286.0</td>\n",
       "      <td>3.0</td>\n",
       "      <td>98.961938</td>\n",
       "      <td>579.0</td>\n",
       "      <td>6.0</td>\n",
       "      <td>0.468447</td>\n",
       "      <td>0.008368</td>\n",
       "      <td>0.460078</td>\n",
       "    </tr>\n",
       "    <tr>\n",
       "      <th>6</th>\n",
       "      <td>8</td>\n",
       "      <td>0.992515</td>\n",
       "      <td>0.992515</td>\n",
       "      <td>0.992515</td>\n",
       "      <td>304.0</td>\n",
       "      <td>302.0</td>\n",
       "      <td>2.0</td>\n",
       "      <td>99.342105</td>\n",
       "      <td>881.0</td>\n",
       "      <td>8.0</td>\n",
       "      <td>0.712783</td>\n",
       "      <td>0.011158</td>\n",
       "      <td>0.701626</td>\n",
       "    </tr>\n",
       "    <tr>\n",
       "      <th>5</th>\n",
       "      <td>6</td>\n",
       "      <td>0.992000</td>\n",
       "      <td>0.992000</td>\n",
       "      <td>0.992000</td>\n",
       "      <td>107.0</td>\n",
       "      <td>105.0</td>\n",
       "      <td>2.0</td>\n",
       "      <td>98.130841</td>\n",
       "      <td>986.0</td>\n",
       "      <td>10.0</td>\n",
       "      <td>0.797735</td>\n",
       "      <td>0.013947</td>\n",
       "      <td>0.783788</td>\n",
       "    </tr>\n",
       "    <tr>\n",
       "      <th>4</th>\n",
       "      <td>5</td>\n",
       "      <td>0.677419</td>\n",
       "      <td>0.989474</td>\n",
       "      <td>0.891588</td>\n",
       "      <td>177.0</td>\n",
       "      <td>161.0</td>\n",
       "      <td>16.0</td>\n",
       "      <td>90.960452</td>\n",
       "      <td>1147.0</td>\n",
       "      <td>26.0</td>\n",
       "      <td>0.927994</td>\n",
       "      <td>0.036262</td>\n",
       "      <td>0.891731</td>\n",
       "    </tr>\n",
       "    <tr>\n",
       "      <th>3</th>\n",
       "      <td>4</td>\n",
       "      <td>0.105263</td>\n",
       "      <td>0.600000</td>\n",
       "      <td>0.283411</td>\n",
       "      <td>206.0</td>\n",
       "      <td>58.0</td>\n",
       "      <td>148.0</td>\n",
       "      <td>28.155340</td>\n",
       "      <td>1205.0</td>\n",
       "      <td>174.0</td>\n",
       "      <td>0.974919</td>\n",
       "      <td>0.242678</td>\n",
       "      <td>0.732241</td>\n",
       "    </tr>\n",
       "    <tr>\n",
       "      <th>2</th>\n",
       "      <td>3</td>\n",
       "      <td>0.050000</td>\n",
       "      <td>0.103226</td>\n",
       "      <td>0.084301</td>\n",
       "      <td>205.0</td>\n",
       "      <td>18.0</td>\n",
       "      <td>187.0</td>\n",
       "      <td>8.780488</td>\n",
       "      <td>1223.0</td>\n",
       "      <td>361.0</td>\n",
       "      <td>0.989482</td>\n",
       "      <td>0.503487</td>\n",
       "      <td>0.485995</td>\n",
       "    </tr>\n",
       "    <tr>\n",
       "      <th>1</th>\n",
       "      <td>2</td>\n",
       "      <td>0.002439</td>\n",
       "      <td>0.028926</td>\n",
       "      <td>0.013355</td>\n",
       "      <td>329.0</td>\n",
       "      <td>10.0</td>\n",
       "      <td>319.0</td>\n",
       "      <td>3.039514</td>\n",
       "      <td>1233.0</td>\n",
       "      <td>680.0</td>\n",
       "      <td>0.997573</td>\n",
       "      <td>0.948396</td>\n",
       "      <td>0.049177</td>\n",
       "    </tr>\n",
       "    <tr>\n",
       "      <th>0</th>\n",
       "      <td>1</td>\n",
       "      <td>0.000000</td>\n",
       "      <td>0.000000</td>\n",
       "      <td>0.000000</td>\n",
       "      <td>40.0</td>\n",
       "      <td>3.0</td>\n",
       "      <td>37.0</td>\n",
       "      <td>7.500000</td>\n",
       "      <td>1236.0</td>\n",
       "      <td>717.0</td>\n",
       "      <td>1.000000</td>\n",
       "      <td>1.000000</td>\n",
       "      <td>0.000000</td>\n",
       "    </tr>\n",
       "  </tbody>\n",
       "</table>\n",
       "</div>"
      ],
      "text/plain": [
       "   decile  min_resp  max_resp  avg_resp    cnt  cnt_resp  cnt_non_resp  \\\n",
       "8      10  1.000000  1.000000  1.000000  296.0     293.0           3.0   \n",
       "7       9  0.998425  0.998425  0.998425  289.0     286.0           3.0   \n",
       "6       8  0.992515  0.992515  0.992515  304.0     302.0           2.0   \n",
       "5       6  0.992000  0.992000  0.992000  107.0     105.0           2.0   \n",
       "4       5  0.677419  0.989474  0.891588  177.0     161.0          16.0   \n",
       "3       4  0.105263  0.600000  0.283411  206.0      58.0         148.0   \n",
       "2       3  0.050000  0.103226  0.084301  205.0      18.0         187.0   \n",
       "1       2  0.002439  0.028926  0.013355  329.0      10.0         319.0   \n",
       "0       1  0.000000  0.000000  0.000000   40.0       3.0          37.0   \n",
       "\n",
       "       rrate  cum_resp  cum_non_resp  cum_resp_pct  cum_non_resp_pct        KS  \n",
       "8  98.986486     293.0           3.0      0.237055          0.004184  0.232871  \n",
       "7  98.961938     579.0           6.0      0.468447          0.008368  0.460078  \n",
       "6  99.342105     881.0           8.0      0.712783          0.011158  0.701626  \n",
       "5  98.130841     986.0          10.0      0.797735          0.013947  0.783788  \n",
       "4  90.960452    1147.0          26.0      0.927994          0.036262  0.891731  \n",
       "3  28.155340    1205.0         174.0      0.974919          0.242678  0.732241  \n",
       "2   8.780488    1223.0         361.0      0.989482          0.503487  0.485995  \n",
       "1   3.039514    1233.0         680.0      0.997573          0.948396  0.049177  \n",
       "0   7.500000    1236.0         717.0      1.000000          1.000000  0.000000  "
      ]
     },
     "execution_count": 218,
     "metadata": {},
     "output_type": "execute_result"
    }
   ],
   "source": [
    "Rank_test = Rank_Ordering(dranktest,\"prob_score\",\"partyWinning\")\n",
    "Rank_test"
   ]
  },
  {
   "cell_type": "code",
   "execution_count": 219,
   "metadata": {},
   "outputs": [
    {
     "data": {
      "text/plain": [
       "1.0    1236\n",
       "0.0     717\n",
       "Name: partyWinning, dtype: int64"
      ]
     },
     "execution_count": 219,
     "metadata": {},
     "output_type": "execute_result"
    }
   ],
   "source": [
    "y_test.value_counts()"
   ]
  },
  {
   "cell_type": "code",
   "execution_count": 220,
   "metadata": {},
   "outputs": [],
   "source": [
    "rr=1236*100/(1236+717)"
   ]
  },
  {
   "cell_type": "code",
   "execution_count": 221,
   "metadata": {},
   "outputs": [
    {
     "data": {
      "text/plain": [
       "8    1.564083\n",
       "7    1.563695\n",
       "6    1.569702\n",
       "5    1.550563\n",
       "4    1.437263\n",
       "3    0.444882\n",
       "2    0.138740\n",
       "1    0.048027\n",
       "0    0.118507\n",
       "Name: rrate, dtype: float64"
      ]
     },
     "execution_count": 221,
     "metadata": {},
     "output_type": "execute_result"
    }
   ],
   "source": [
    "Rank_test['rrate']/rr"
   ]
  },
  {
   "cell_type": "markdown",
   "metadata": {},
   "source": [
    "# Building Model on Random Forest"
   ]
  },
  {
   "cell_type": "markdown",
   "metadata": {},
   "source": [
    "###### Scaling the data"
   ]
  },
  {
   "cell_type": "code",
   "execution_count": 222,
   "metadata": {},
   "outputs": [],
   "source": [
    "X_train, X_test, y_train, y_test = train_test_split(X, y, test_size = 0.3,random_state=50)\n",
    "#from sklearn.preprocessing import StandardScaler\n",
    "#sc = StandardScaler()\n",
    "#X_train = sc.fit_transform(X_train)\n",
    "#X_test = sc.transform(X_test)\n"
   ]
  },
  {
   "cell_type": "code",
   "execution_count": 223,
   "metadata": {},
   "outputs": [
    {
     "data": {
      "text/plain": [
       "RandomForestClassifier(bootstrap=True, class_weight=None, criterion='gini',\n",
       "            max_depth=None, max_features='auto', max_leaf_nodes=None,\n",
       "            min_impurity_split=1e-07, min_samples_leaf=1,\n",
       "            min_samples_split=2, min_weight_fraction_leaf=0.0,\n",
       "            n_estimators=10, n_jobs=1, oob_score=False, random_state=None,\n",
       "            verbose=0, warm_start=False)"
      ]
     },
     "execution_count": 223,
     "metadata": {},
     "output_type": "execute_result"
    }
   ],
   "source": [
    "from sklearn.ensemble import RandomForestClassifier\n",
    "rnd_clf = RandomForestClassifier()\n",
    "rnd_clf=rnd_clf.fit(X_train,y_train)\n",
    "rnd_clf"
   ]
  },
  {
   "cell_type": "code",
   "execution_count": 224,
   "metadata": {},
   "outputs": [
    {
     "data": {
      "text/html": [
       "<div>\n",
       "<style scoped>\n",
       "    .dataframe tbody tr th:only-of-type {\n",
       "        vertical-align: middle;\n",
       "    }\n",
       "\n",
       "    .dataframe tbody tr th {\n",
       "        vertical-align: top;\n",
       "    }\n",
       "\n",
       "    .dataframe thead th {\n",
       "        text-align: right;\n",
       "    }\n",
       "</style>\n",
       "<table border=\"1\" class=\"dataframe\">\n",
       "  <thead>\n",
       "    <tr style=\"text-align: right;\">\n",
       "      <th></th>\n",
       "      <th>authorityDecision1</th>\n",
       "      <th>caseDispositionUnusual</th>\n",
       "      <th>caseOrigin</th>\n",
       "      <th>caseSource</th>\n",
       "      <th>certReason</th>\n",
       "      <th>decisionDirection</th>\n",
       "      <th>decisionDirectionDissent</th>\n",
       "      <th>decisionType</th>\n",
       "      <th>declarationUncon</th>\n",
       "      <th>issue</th>\n",
       "      <th>...</th>\n",
       "      <th>majVotes</th>\n",
       "      <th>minVotes</th>\n",
       "      <th>naturalCourt</th>\n",
       "      <th>petitioner</th>\n",
       "      <th>precedentAlteration</th>\n",
       "      <th>respondent</th>\n",
       "      <th>splitVote</th>\n",
       "      <th>term</th>\n",
       "      <th>threeJudgeFdc</th>\n",
       "      <th>voteUnclear</th>\n",
       "    </tr>\n",
       "  </thead>\n",
       "  <tbody>\n",
       "    <tr>\n",
       "      <th>2075</th>\n",
       "      <td>4.0</td>\n",
       "      <td>0.0</td>\n",
       "      <td>94.0</td>\n",
       "      <td>22.0</td>\n",
       "      <td>12.0</td>\n",
       "      <td>1.0</td>\n",
       "      <td>0.0</td>\n",
       "      <td>1</td>\n",
       "      <td>1.0</td>\n",
       "      <td>20280.0</td>\n",
       "      <td>...</td>\n",
       "      <td>8</td>\n",
       "      <td>0</td>\n",
       "      <td>1406</td>\n",
       "      <td>27.0</td>\n",
       "      <td>0.0</td>\n",
       "      <td>106.0</td>\n",
       "      <td>1</td>\n",
       "      <td>1960</td>\n",
       "      <td>0.0</td>\n",
       "      <td>0.0</td>\n",
       "    </tr>\n",
       "    <tr>\n",
       "      <th>9638</th>\n",
       "      <td>4.0</td>\n",
       "      <td>0.0</td>\n",
       "      <td>48.0</td>\n",
       "      <td>29.0</td>\n",
       "      <td>12.0</td>\n",
       "      <td>1.0</td>\n",
       "      <td>0.0</td>\n",
       "      <td>1</td>\n",
       "      <td>1.0</td>\n",
       "      <td>30060.0</td>\n",
       "      <td>...</td>\n",
       "      <td>6</td>\n",
       "      <td>3</td>\n",
       "      <td>1703</td>\n",
       "      <td>327.0</td>\n",
       "      <td>0.0</td>\n",
       "      <td>149.0</td>\n",
       "      <td>1</td>\n",
       "      <td>2009</td>\n",
       "      <td>0.0</td>\n",
       "      <td>0.0</td>\n",
       "    </tr>\n",
       "    <tr>\n",
       "      <th>5444</th>\n",
       "      <td>2.0</td>\n",
       "      <td>0.0</td>\n",
       "      <td>302.0</td>\n",
       "      <td>301.0</td>\n",
       "      <td>12.0</td>\n",
       "      <td>1.0</td>\n",
       "      <td>0.0</td>\n",
       "      <td>1</td>\n",
       "      <td>1.0</td>\n",
       "      <td>80060.0</td>\n",
       "      <td>...</td>\n",
       "      <td>6</td>\n",
       "      <td>3</td>\n",
       "      <td>1506</td>\n",
       "      <td>28.0</td>\n",
       "      <td>0.0</td>\n",
       "      <td>208.0</td>\n",
       "      <td>1</td>\n",
       "      <td>1978</td>\n",
       "      <td>0.0</td>\n",
       "      <td>0.0</td>\n",
       "    </tr>\n",
       "    <tr>\n",
       "      <th>3348</th>\n",
       "      <td>2.0</td>\n",
       "      <td>0.0</td>\n",
       "      <td>26.0</td>\n",
       "      <td>26.0</td>\n",
       "      <td>12.0</td>\n",
       "      <td>2.0</td>\n",
       "      <td>0.0</td>\n",
       "      <td>1</td>\n",
       "      <td>1.0</td>\n",
       "      <td>60030.0</td>\n",
       "      <td>...</td>\n",
       "      <td>8</td>\n",
       "      <td>0</td>\n",
       "      <td>1410</td>\n",
       "      <td>111.0</td>\n",
       "      <td>0.0</td>\n",
       "      <td>28.0</td>\n",
       "      <td>1</td>\n",
       "      <td>1967</td>\n",
       "      <td>0.0</td>\n",
       "      <td>0.0</td>\n",
       "    </tr>\n",
       "    <tr>\n",
       "      <th>8343</th>\n",
       "      <td>4.0</td>\n",
       "      <td>0.0</td>\n",
       "      <td>48.0</td>\n",
       "      <td>29.0</td>\n",
       "      <td>2.0</td>\n",
       "      <td>2.0</td>\n",
       "      <td>0.0</td>\n",
       "      <td>1</td>\n",
       "      <td>1.0</td>\n",
       "      <td>120010.0</td>\n",
       "      <td>...</td>\n",
       "      <td>9</td>\n",
       "      <td>0</td>\n",
       "      <td>1607</td>\n",
       "      <td>27.0</td>\n",
       "      <td>0.0</td>\n",
       "      <td>240.0</td>\n",
       "      <td>1</td>\n",
       "      <td>1996</td>\n",
       "      <td>0.0</td>\n",
       "      <td>0.0</td>\n",
       "    </tr>\n",
       "  </tbody>\n",
       "</table>\n",
       "<p>5 rows × 29 columns</p>\n",
       "</div>"
      ],
      "text/plain": [
       "      authorityDecision1  caseDispositionUnusual  caseOrigin  caseSource  \\\n",
       "2075                 4.0                     0.0        94.0        22.0   \n",
       "9638                 4.0                     0.0        48.0        29.0   \n",
       "5444                 2.0                     0.0       302.0       301.0   \n",
       "3348                 2.0                     0.0        26.0        26.0   \n",
       "8343                 4.0                     0.0        48.0        29.0   \n",
       "\n",
       "      certReason  decisionDirection  decisionDirectionDissent  decisionType  \\\n",
       "2075        12.0                1.0                       0.0             1   \n",
       "9638        12.0                1.0                       0.0             1   \n",
       "5444        12.0                1.0                       0.0             1   \n",
       "3348        12.0                2.0                       0.0             1   \n",
       "8343         2.0                2.0                       0.0             1   \n",
       "\n",
       "      declarationUncon     issue     ...       majVotes  minVotes  \\\n",
       "2075               1.0   20280.0     ...              8         0   \n",
       "9638               1.0   30060.0     ...              6         3   \n",
       "5444               1.0   80060.0     ...              6         3   \n",
       "3348               1.0   60030.0     ...              8         0   \n",
       "8343               1.0  120010.0     ...              9         0   \n",
       "\n",
       "      naturalCourt  petitioner  precedentAlteration  respondent  splitVote  \\\n",
       "2075          1406        27.0                  0.0       106.0          1   \n",
       "9638          1703       327.0                  0.0       149.0          1   \n",
       "5444          1506        28.0                  0.0       208.0          1   \n",
       "3348          1410       111.0                  0.0        28.0          1   \n",
       "8343          1607        27.0                  0.0       240.0          1   \n",
       "\n",
       "      term  threeJudgeFdc  voteUnclear  \n",
       "2075  1960            0.0          0.0  \n",
       "9638  2009            0.0          0.0  \n",
       "5444  1978            0.0          0.0  \n",
       "3348  1967            0.0          0.0  \n",
       "8343  1996            0.0          0.0  \n",
       "\n",
       "[5 rows x 29 columns]"
      ]
     },
     "execution_count": 224,
     "metadata": {},
     "output_type": "execute_result"
    }
   ],
   "source": [
    "rf_pred_y_train = rnd_clf.predict(X_train)\n",
    "rf_pred_y_train\n",
    "X_train.head()"
   ]
  },
  {
   "cell_type": "markdown",
   "metadata": {},
   "source": [
    "#### Classification accuracy of the model"
   ]
  },
  {
   "cell_type": "code",
   "execution_count": 225,
   "metadata": {},
   "outputs": [
    {
     "data": {
      "text/plain": [
       "0.99758560140474095"
      ]
     },
     "execution_count": 225,
     "metadata": {},
     "output_type": "execute_result"
    }
   ],
   "source": [
    "from sklearn.metrics import accuracy_score\n",
    "score = accuracy_score(y_train, rf_pred_y_train)\n",
    "score"
   ]
  },
  {
   "cell_type": "code",
   "execution_count": 226,
   "metadata": {},
   "outputs": [
    {
     "name": "stdout",
     "output_type": "stream",
     "text": [
      "Total Accuracy :  0.997585601405\n",
      "Precision :  0.999296270232\n",
      "Recall :  0.996840996841\n",
      "Specificity :  0.998828353837\n"
     ]
    }
   ],
   "source": [
    "print( 'Total Accuracy : ',( metrics.accuracy_score( y_train,rf_pred_y_train)) )\n",
    "print( 'Precision : ',( metrics.precision_score( y_train,rf_pred_y_train ) ) )\n",
    "print( 'Recall : ',( metrics.recall_score( y_train,rf_pred_y_train )) )\n",
    "cm1 = metrics.confusion_matrix( y_train, rf_pred_y_train, [1,0] )\n",
    "specificity = cm1[1,1]/(cm1[1,0]+cm1[1,1])\n",
    "print('Specificity : ', ( specificity ) )\n"
   ]
  },
  {
   "cell_type": "code",
   "execution_count": 227,
   "metadata": {},
   "outputs": [
    {
     "data": {
      "image/png": "[encoded data removed]",
      "text/plain": [
       "<matplotlib.figure.Figure at 0x2400f070710>"
      ]
     },
     "metadata": {},
     "output_type": "display_data"
    }
   ],
   "source": [
    "draw_cm( y_train, rf_pred_y_train)"
   ]
  },
  {
   "cell_type": "markdown",
   "metadata": {},
   "source": [
    "#### AUC"
   ]
  },
  {
   "cell_type": "code",
   "execution_count": 228,
   "metadata": {},
   "outputs": [
    {
     "data": {
      "text/plain": [
       "0.99990253417318442"
      ]
     },
     "execution_count": 228,
     "metadata": {},
     "output_type": "execute_result"
    }
   ],
   "source": [
    "from sklearn.metrics import roc_curve\n",
    "from sklearn.metrics import auc,confusion_matrix\n",
    "\n",
    "rf_y_train_prob = rnd_clf.predict_proba(X_train)\n",
    "fpr, tpr, thresholds =  roc_curve(y_train, rf_y_train_prob[:,1])\n",
    "auc(fpr, tpr)"
   ]
  },
  {
   "cell_type": "code",
   "execution_count": 229,
   "metadata": {},
   "outputs": [
    {
     "data": {
      "image/png": "[encoded data removed]",
      "text/plain": [
       "<matplotlib.figure.Figure at 0x2400f083978>"
      ]
     },
     "metadata": {},
     "output_type": "display_data"
    }
   ],
   "source": [
    "fpr, tpr, thresholds = draw_roc( y_train,rf_y_train_prob[:,1] )"
   ]
  },
  {
   "cell_type": "markdown",
   "metadata": {},
   "source": [
    "#### Checking for Test data"
   ]
  },
  {
   "cell_type": "code",
   "execution_count": 230,
   "metadata": {},
   "outputs": [
    {
     "data": {
      "text/plain": [
       "array([ 0.,  1.,  0., ...,  1.,  0.,  1.])"
      ]
     },
     "execution_count": 230,
     "metadata": {},
     "output_type": "execute_result"
    }
   ],
   "source": [
    "rf_pred_y_test = rnd_clf.predict(X_test)\n",
    "rf_pred_y_test"
   ]
  },
  {
   "cell_type": "markdown",
   "metadata": {},
   "source": [
    "####  classification accuracy of RF model\n"
   ]
  },
  {
   "cell_type": "code",
   "execution_count": 231,
   "metadata": {},
   "outputs": [
    {
     "data": {
      "text/plain": [
       "0.90373783922171014"
      ]
     },
     "execution_count": 231,
     "metadata": {},
     "output_type": "execute_result"
    }
   ],
   "source": [
    "score_test = accuracy_score(y_test, rf_pred_y_test)\n",
    "score_test\n"
   ]
  },
  {
   "cell_type": "code",
   "execution_count": 232,
   "metadata": {},
   "outputs": [
    {
     "name": "stdout",
     "output_type": "stream",
     "text": [
      "Total Accuracy :  0.903737839222\n",
      "Precision :  0.919871794872\n",
      "Recall :  0.928802588997\n",
      "Specificity :  0.860529986053\n"
     ]
    }
   ],
   "source": [
    "print( 'Total Accuracy : ',( metrics.accuracy_score( y_test,rf_pred_y_test)) )\n",
    "print( 'Precision : ',( metrics.precision_score( y_test,rf_pred_y_test ) ) )\n",
    "print( 'Recall : ',( metrics.recall_score( y_test,rf_pred_y_test )) )\n",
    "cm1 = metrics.confusion_matrix( y_test, rf_pred_y_test, [1,0] )\n",
    "specificity = cm1[1,1]/(cm1[1,0]+cm1[1,1])\n",
    "print('Specificity : ', ( specificity ) )\n"
   ]
  },
  {
   "cell_type": "code",
   "execution_count": 233,
   "metadata": {},
   "outputs": [
    {
     "data": {
      "image/png": "[encoded data removed]",
      "text/plain": [
       "<matplotlib.figure.Figure at 0x2400eeec080>"
      ]
     },
     "metadata": {},
     "output_type": "display_data"
    }
   ],
   "source": [
    "draw_cm( y_test, rf_pred_y_test)"
   ]
  },
  {
   "cell_type": "code",
   "execution_count": 234,
   "metadata": {},
   "outputs": [
    {
     "data": {
      "text/plain": [
       "0.95889301882619504"
      ]
     },
     "execution_count": 234,
     "metadata": {},
     "output_type": "execute_result"
    }
   ],
   "source": [
    "rf_y_test_prob = rnd_clf.predict_proba(X_test)\n",
    "fpr, tpr, thresholds =  roc_curve(y_test, rf_y_test_prob[:,1])\n",
    "auc(fpr, tpr)"
   ]
  },
  {
   "cell_type": "code",
   "execution_count": 235,
   "metadata": {},
   "outputs": [
    {
     "data": {
      "image/png": "[encoded data removed]",
      "text/plain": [
       "<matplotlib.figure.Figure at 0x2400f132278>"
      ]
     },
     "metadata": {},
     "output_type": "display_data"
    }
   ],
   "source": [
    "fpr, tpr, thresholds = draw_roc( y_test,rf_y_test_prob[:,1] )"
   ]
  },
  {
   "cell_type": "code",
   "execution_count": 236,
   "metadata": {},
   "outputs": [
    {
     "data": {
      "text/plain": [
       "0.94559611076558381"
      ]
     },
     "execution_count": 236,
     "metadata": {},
     "output_type": "execute_result"
    }
   ],
   "source": [
    "from sklearn import model_selection\n",
    "scores = model_selection.cross_val_score(rnd_clf, X_train, y_train, cv = 10, scoring='roc_auc')\n",
    "scores.mean()"
   ]
  },
  {
   "cell_type": "code",
   "execution_count": 237,
   "metadata": {},
   "outputs": [
    {
     "data": {
      "text/plain": [
       "0.011862132534871847"
      ]
     },
     "execution_count": 237,
     "metadata": {},
     "output_type": "execute_result"
    }
   ],
   "source": [
    "scores.std()"
   ]
  },
  {
   "cell_type": "code",
   "execution_count": 238,
   "metadata": {},
   "outputs": [
    {
     "data": {
      "text/html": [
       "<div>\n",
       "<style scoped>\n",
       "    .dataframe tbody tr th:only-of-type {\n",
       "        vertical-align: middle;\n",
       "    }\n",
       "\n",
       "    .dataframe tbody tr th {\n",
       "        vertical-align: top;\n",
       "    }\n",
       "\n",
       "    .dataframe thead th {\n",
       "        text-align: right;\n",
       "    }\n",
       "</style>\n",
       "<table border=\"1\" class=\"dataframe\">\n",
       "  <thead>\n",
       "    <tr style=\"text-align: right;\">\n",
       "      <th></th>\n",
       "      <th>authorityDecision1</th>\n",
       "      <th>caseDispositionUnusual</th>\n",
       "      <th>caseOrigin</th>\n",
       "      <th>caseSource</th>\n",
       "      <th>certReason</th>\n",
       "      <th>decisionDirection</th>\n",
       "      <th>decisionDirectionDissent</th>\n",
       "      <th>decisionType</th>\n",
       "      <th>declarationUncon</th>\n",
       "      <th>issue</th>\n",
       "      <th>...</th>\n",
       "      <th>majVotes</th>\n",
       "      <th>minVotes</th>\n",
       "      <th>naturalCourt</th>\n",
       "      <th>petitioner</th>\n",
       "      <th>precedentAlteration</th>\n",
       "      <th>respondent</th>\n",
       "      <th>splitVote</th>\n",
       "      <th>term</th>\n",
       "      <th>threeJudgeFdc</th>\n",
       "      <th>voteUnclear</th>\n",
       "    </tr>\n",
       "  </thead>\n",
       "  <tbody>\n",
       "    <tr>\n",
       "      <th>2075</th>\n",
       "      <td>4.0</td>\n",
       "      <td>0.0</td>\n",
       "      <td>94.0</td>\n",
       "      <td>22.0</td>\n",
       "      <td>12.0</td>\n",
       "      <td>1.0</td>\n",
       "      <td>0.0</td>\n",
       "      <td>1</td>\n",
       "      <td>1.0</td>\n",
       "      <td>20280.0</td>\n",
       "      <td>...</td>\n",
       "      <td>8</td>\n",
       "      <td>0</td>\n",
       "      <td>1406</td>\n",
       "      <td>27.0</td>\n",
       "      <td>0.0</td>\n",
       "      <td>106.0</td>\n",
       "      <td>1</td>\n",
       "      <td>1960</td>\n",
       "      <td>0.0</td>\n",
       "      <td>0.0</td>\n",
       "    </tr>\n",
       "    <tr>\n",
       "      <th>9638</th>\n",
       "      <td>4.0</td>\n",
       "      <td>0.0</td>\n",
       "      <td>48.0</td>\n",
       "      <td>29.0</td>\n",
       "      <td>12.0</td>\n",
       "      <td>1.0</td>\n",
       "      <td>0.0</td>\n",
       "      <td>1</td>\n",
       "      <td>1.0</td>\n",
       "      <td>30060.0</td>\n",
       "      <td>...</td>\n",
       "      <td>6</td>\n",
       "      <td>3</td>\n",
       "      <td>1703</td>\n",
       "      <td>327.0</td>\n",
       "      <td>0.0</td>\n",
       "      <td>149.0</td>\n",
       "      <td>1</td>\n",
       "      <td>2009</td>\n",
       "      <td>0.0</td>\n",
       "      <td>0.0</td>\n",
       "    </tr>\n",
       "    <tr>\n",
       "      <th>5444</th>\n",
       "      <td>2.0</td>\n",
       "      <td>0.0</td>\n",
       "      <td>302.0</td>\n",
       "      <td>301.0</td>\n",
       "      <td>12.0</td>\n",
       "      <td>1.0</td>\n",
       "      <td>0.0</td>\n",
       "      <td>1</td>\n",
       "      <td>1.0</td>\n",
       "      <td>80060.0</td>\n",
       "      <td>...</td>\n",
       "      <td>6</td>\n",
       "      <td>3</td>\n",
       "      <td>1506</td>\n",
       "      <td>28.0</td>\n",
       "      <td>0.0</td>\n",
       "      <td>208.0</td>\n",
       "      <td>1</td>\n",
       "      <td>1978</td>\n",
       "      <td>0.0</td>\n",
       "      <td>0.0</td>\n",
       "    </tr>\n",
       "    <tr>\n",
       "      <th>3348</th>\n",
       "      <td>2.0</td>\n",
       "      <td>0.0</td>\n",
       "      <td>26.0</td>\n",
       "      <td>26.0</td>\n",
       "      <td>12.0</td>\n",
       "      <td>2.0</td>\n",
       "      <td>0.0</td>\n",
       "      <td>1</td>\n",
       "      <td>1.0</td>\n",
       "      <td>60030.0</td>\n",
       "      <td>...</td>\n",
       "      <td>8</td>\n",
       "      <td>0</td>\n",
       "      <td>1410</td>\n",
       "      <td>111.0</td>\n",
       "      <td>0.0</td>\n",
       "      <td>28.0</td>\n",
       "      <td>1</td>\n",
       "      <td>1967</td>\n",
       "      <td>0.0</td>\n",
       "      <td>0.0</td>\n",
       "    </tr>\n",
       "    <tr>\n",
       "      <th>8343</th>\n",
       "      <td>4.0</td>\n",
       "      <td>0.0</td>\n",
       "      <td>48.0</td>\n",
       "      <td>29.0</td>\n",
       "      <td>2.0</td>\n",
       "      <td>2.0</td>\n",
       "      <td>0.0</td>\n",
       "      <td>1</td>\n",
       "      <td>1.0</td>\n",
       "      <td>120010.0</td>\n",
       "      <td>...</td>\n",
       "      <td>9</td>\n",
       "      <td>0</td>\n",
       "      <td>1607</td>\n",
       "      <td>27.0</td>\n",
       "      <td>0.0</td>\n",
       "      <td>240.0</td>\n",
       "      <td>1</td>\n",
       "      <td>1996</td>\n",
       "      <td>0.0</td>\n",
       "      <td>0.0</td>\n",
       "    </tr>\n",
       "  </tbody>\n",
       "</table>\n",
       "<p>5 rows × 29 columns</p>\n",
       "</div>"
      ],
      "text/plain": [
       "      authorityDecision1  caseDispositionUnusual  caseOrigin  caseSource  \\\n",
       "2075                 4.0                     0.0        94.0        22.0   \n",
       "9638                 4.0                     0.0        48.0        29.0   \n",
       "5444                 2.0                     0.0       302.0       301.0   \n",
       "3348                 2.0                     0.0        26.0        26.0   \n",
       "8343                 4.0                     0.0        48.0        29.0   \n",
       "\n",
       "      certReason  decisionDirection  decisionDirectionDissent  decisionType  \\\n",
       "2075        12.0                1.0                       0.0             1   \n",
       "9638        12.0                1.0                       0.0             1   \n",
       "5444        12.0                1.0                       0.0             1   \n",
       "3348        12.0                2.0                       0.0             1   \n",
       "8343         2.0                2.0                       0.0             1   \n",
       "\n",
       "      declarationUncon     issue     ...       majVotes  minVotes  \\\n",
       "2075               1.0   20280.0     ...              8         0   \n",
       "9638               1.0   30060.0     ...              6         3   \n",
       "5444               1.0   80060.0     ...              6         3   \n",
       "3348               1.0   60030.0     ...              8         0   \n",
       "8343               1.0  120010.0     ...              9         0   \n",
       "\n",
       "      naturalCourt  petitioner  precedentAlteration  respondent  splitVote  \\\n",
       "2075          1406        27.0                  0.0       106.0          1   \n",
       "9638          1703       327.0                  0.0       149.0          1   \n",
       "5444          1506        28.0                  0.0       208.0          1   \n",
       "3348          1410       111.0                  0.0        28.0          1   \n",
       "8343          1607        27.0                  0.0       240.0          1   \n",
       "\n",
       "      term  threeJudgeFdc  voteUnclear  \n",
       "2075  1960            0.0          0.0  \n",
       "9638  2009            0.0          0.0  \n",
       "5444  1978            0.0          0.0  \n",
       "3348  1967            0.0          0.0  \n",
       "8343  1996            0.0          0.0  \n",
       "\n",
       "[5 rows x 29 columns]"
      ]
     },
     "execution_count": 238,
     "metadata": {},
     "output_type": "execute_result"
    }
   ],
   "source": [
    "X_train.head()"
   ]
  },
  {
   "cell_type": "code",
   "execution_count": 239,
   "metadata": {},
   "outputs": [
    {
     "data": {
      "text/plain": [
       "lcDispositionDirection      0.200091\n",
       "decisionDirection           0.127512\n",
       "respondent                  0.083139\n",
       "petitioner                  0.062717\n",
       "issue                       0.057913\n",
       "term                        0.052997\n",
       "majOpinWriter               0.043280\n",
       "caseOrigin                  0.038942\n",
       "caseSource                  0.036370\n",
       "lawSupp                     0.035503\n",
       "naturalCourt                0.032978\n",
       "majOpinAssigner             0.032785\n",
       "issueArea                   0.028587\n",
       "certReason                  0.025288\n",
       "majVotes                    0.022996\n",
       "lcDisposition               0.022798\n",
       "minVotes                    0.022322\n",
       "declarationUncon            0.017606\n",
       "lawType                     0.015023\n",
       "authorityDecision1          0.012318\n",
       "lcDisagreement              0.008924\n",
       "caseDispositionUnusual      0.004990\n",
       "jurisdiction                0.004372\n",
       "decisionDirectionDissent    0.003946\n",
       "decisionType                0.002446\n",
       "precedentAlteration         0.001850\n",
       "voteUnclear                 0.001177\n",
       "threeJudgeFdc               0.001130\n",
       "splitVote                   0.000000\n",
       "dtype: float64"
      ]
     },
     "execution_count": 239,
     "metadata": {},
     "output_type": "execute_result"
    }
   ],
   "source": [
    "feature_imp = pd.Series(rnd_clf.feature_importances_,index=X_train.columns).sort_values(ascending=False) \n",
    "feature_imp"
   ]
  },
  {
   "cell_type": "code",
   "execution_count": 240,
   "metadata": {},
   "outputs": [
    {
     "name": "stderr",
     "output_type": "stream",
     "text": [
      "No handles with labels found to put in legend.\n"
     ]
    },
    {
     "data": {
      "image/png": "[encoded data removed]",
      "text/plain": [
       "<matplotlib.figure.Figure at 0x2400f0a65c0>"
      ]
     },
     "metadata": {},
     "output_type": "display_data"
    }
   ],
   "source": [
    "import matplotlib.pyplot as plt\n",
    "import seaborn as sns\n",
    "%matplotlib inline\n",
    "# Creating a bar plot\n",
    "feature_imp=feature_imp[0:10,]\n",
    "\n",
    "sns.barplot(x=feature_imp, y=feature_imp.index)\n",
    "# Add labels to your graph\n",
    "plt.xlabel('Feature Importance Score')\n",
    "plt.ylabel('Features')\n",
    "plt.title(\"Visualizing Important Features\")\n",
    "plt.legend()\n",
    "plt.show()"
   ]
  },
  {
   "cell_type": "markdown",
   "metadata": {},
   "source": [
    "## Building RF model with best parameters"
   ]
  },
  {
   "cell_type": "code",
   "execution_count": 241,
   "metadata": {},
   "outputs": [],
   "source": [
    "import time\n",
    "from sklearn.grid_search import GridSearchCV"
   ]
  },
  {
   "cell_type": "code",
   "execution_count": 242,
   "metadata": {},
   "outputs": [
    {
     "name": "stdout",
     "output_type": "stream",
     "text": [
      "Best Parameters using grid search: \n",
      " {'bootstrap': True, 'criterion': 'gini', 'max_depth': 7, 'max_features': None, 'n_estimators': 7}\n",
      "Time taken in grid search:  348.16\n"
     ]
    }
   ],
   "source": [
    "np.random.seed(20)\n",
    "start = time.time()\n",
    "\n",
    "param_dist = {\n",
    "    \n",
    "              'n_estimators':np.arange(1,10),\n",
    "              'max_depth': np.arange(1,10),\n",
    "              'bootstrap': [True, False],\n",
    "              'max_features': ['auto', 'sqrt', 'log2', None],\n",
    "              'criterion': ['gini', 'entropy']}\n",
    "\n",
    "cv_rf = GridSearchCV(rnd_clf, cv = 10,\n",
    "                     param_grid=param_dist, \n",
    "                     n_jobs = 3)\n",
    "\n",
    "cv_rf.fit(X_train, y_train)\n",
    "print('Best Parameters using grid search: \\n', \n",
    "      cv_rf.best_params_)\n",
    "end = time.time()\n",
    "print('Time taken in grid search: {0: .2f}'.format(end - start))"
   ]
  },
  {
   "cell_type": "code",
   "execution_count": 243,
   "metadata": {},
   "outputs": [
    {
     "data": {
      "text/plain": [
       "RandomForestClassifier(bootstrap=True, class_weight=None, criterion='gini',\n",
       "            max_depth=7, max_features=None, max_leaf_nodes=None,\n",
       "            min_impurity_split=1e-07, min_samples_leaf=1,\n",
       "            min_samples_split=2, min_weight_fraction_leaf=0.0,\n",
       "            n_estimators=7, n_jobs=1, oob_score=False, random_state=None,\n",
       "            verbose=0, warm_start=False)"
      ]
     },
     "execution_count": 243,
     "metadata": {},
     "output_type": "execute_result"
    }
   ],
   "source": [
    "rf_classifier = cv_rf.best_estimator_\n",
    "rf_classifier=rf_classifier.fit(X_train,y_train)\n",
    "rf_classifier"
   ]
  },
  {
   "cell_type": "markdown",
   "metadata": {},
   "source": [
    "#### Accuracy"
   ]
  },
  {
   "cell_type": "code",
   "execution_count": 244,
   "metadata": {},
   "outputs": [
    {
     "data": {
      "text/plain": [
       "array([ 0.,  1.,  1., ...,  1.,  0.,  0.])"
      ]
     },
     "execution_count": 244,
     "metadata": {},
     "output_type": "execute_result"
    }
   ],
   "source": [
    "rf_pred_y_train = rf_classifier.predict(X_train)\n",
    "rf_pred_y_train"
   ]
  },
  {
   "cell_type": "code",
   "execution_count": 245,
   "metadata": {},
   "outputs": [
    {
     "data": {
      "text/plain": [
       "0.96861281826163304"
      ]
     },
     "execution_count": 245,
     "metadata": {},
     "output_type": "execute_result"
    }
   ],
   "source": [
    "from sklearn.metrics import accuracy_score\n",
    "score = accuracy_score(y_train, rf_pred_y_train)\n",
    "score\n"
   ]
  },
  {
   "cell_type": "code",
   "execution_count": 246,
   "metadata": {},
   "outputs": [
    {
     "data": {
      "image/png": "[encoded data removed]",
      "text/plain": [
       "<matplotlib.figure.Figure at 0x2400eef0860>"
      ]
     },
     "metadata": {},
     "output_type": "display_data"
    }
   ],
   "source": [
    "draw_cm( y_train, rf_pred_y_train)"
   ]
  },
  {
   "cell_type": "code",
   "execution_count": 247,
   "metadata": {},
   "outputs": [
    {
     "name": "stdout",
     "output_type": "stream",
     "text": [
      "Total Accuracy :  0.97\n",
      "Precision :  0.98\n",
      "Recall :  0.97\n",
      "Specificity :  0.97\n"
     ]
    }
   ],
   "source": [
    "print( 'Total Accuracy : ',np.round( metrics.accuracy_score( y_train,rf_pred_y_train), 2 ) )\n",
    "print( 'Precision : ',np.round( metrics.precision_score( y_train,rf_pred_y_train ), 2 ) )\n",
    "print( 'Recall : ',np.round( metrics.recall_score( y_train,rf_pred_y_train ), 2 ) )\n",
    "cm1 = metrics.confusion_matrix( y_train, rf_pred_y_train, [1,0] )\n",
    "specificity = cm1[1,1]/(cm1[1,0]+cm1[1,1])\n",
    "print('Specificity : ', round( specificity, 2 ) )\n"
   ]
  },
  {
   "cell_type": "code",
   "execution_count": 248,
   "metadata": {},
   "outputs": [
    {
     "data": {
      "text/plain": [
       "array([ 0.,  1.,  0., ...,  1.,  0.,  1.])"
      ]
     },
     "execution_count": 248,
     "metadata": {},
     "output_type": "execute_result"
    }
   ],
   "source": [
    "rf_pred_y_test = rf_classifier.predict(X_test)\n",
    "rf_pred_y_test"
   ]
  },
  {
   "cell_type": "code",
   "execution_count": 249,
   "metadata": {},
   "outputs": [
    {
     "data": {
      "text/plain": [
       "0.94060419866871481"
      ]
     },
     "execution_count": 249,
     "metadata": {},
     "output_type": "execute_result"
    }
   ],
   "source": [
    "from sklearn.metrics import accuracy_score\n",
    "score = accuracy_score(y_test, rf_pred_y_test)\n",
    "score"
   ]
  },
  {
   "cell_type": "code",
   "execution_count": 250,
   "metadata": {},
   "outputs": [
    {
     "data": {
      "image/png": "[encoded data removed]",
      "text/plain": [
       "<matplotlib.figure.Figure at 0x2400f0d9b70>"
      ]
     },
     "metadata": {},
     "output_type": "display_data"
    }
   ],
   "source": [
    "draw_cm( y_test, rf_pred_y_test)"
   ]
  },
  {
   "cell_type": "code",
   "execution_count": 251,
   "metadata": {},
   "outputs": [
    {
     "name": "stdout",
     "output_type": "stream",
     "text": [
      "Total Accuracy :  0.94\n",
      "Precision :  0.96\n",
      "Recall :  0.94\n",
      "Specificity :  0.94\n"
     ]
    }
   ],
   "source": [
    "print( 'Total Accuracy : ',np.round( metrics.accuracy_score( y_test,rf_pred_y_test), 2 ) )\n",
    "print( 'Precision : ',np.round( metrics.precision_score( y_test,rf_pred_y_test ), 2 ) )\n",
    "print( 'Recall : ',np.round( metrics.recall_score( y_test,rf_pred_y_test ), 2 ) )\n",
    "cm1 = metrics.confusion_matrix( y_test, rf_pred_y_test, [1,0] )\n",
    "specificity = cm1[1,1]/(cm1[1,0]+cm1[1,1])\n",
    "print('Specificity : ', round( specificity, 2 ) )\n"
   ]
  },
  {
   "cell_type": "markdown",
   "metadata": {},
   "source": [
    "#### AUC"
   ]
  },
  {
   "cell_type": "code",
   "execution_count": 252,
   "metadata": {},
   "outputs": [
    {
     "data": {
      "text/plain": [
       "0.99132338236028905"
      ]
     },
     "execution_count": 252,
     "metadata": {},
     "output_type": "execute_result"
    }
   ],
   "source": [
    "cl_rf_y_train_prob = rf_classifier.predict_proba(X_train)\n",
    "fpr, tpr, thresholds = roc_curve(y_train, cl_rf_y_train_prob[:,1])\n",
    "auc_train = auc(fpr, tpr)\n",
    "auc_train"
   ]
  },
  {
   "cell_type": "code",
   "execution_count": 253,
   "metadata": {},
   "outputs": [
    {
     "data": {
      "image/png": "[encoded data removed]",
      "text/plain": [
       "<matplotlib.figure.Figure at 0x2400efc40f0>"
      ]
     },
     "metadata": {},
     "output_type": "display_data"
    }
   ],
   "source": [
    "fpr, tpr, thresholds = draw_roc( y_train,rf_y_train_prob[:,1] )"
   ]
  },
  {
   "cell_type": "code",
   "execution_count": 254,
   "metadata": {},
   "outputs": [
    {
     "data": {
      "text/plain": [
       "0.97502854847372855"
      ]
     },
     "execution_count": 254,
     "metadata": {},
     "output_type": "execute_result"
    }
   ],
   "source": [
    "cl_rf_y_test_prob = rf_classifier.predict_proba(X_test)\n",
    "fpr, tpr, thresholds = roc_curve(y_test, cl_rf_y_test_prob[:,1])\n",
    "auc_test = auc(fpr, tpr)\n",
    "auc_test"
   ]
  },
  {
   "cell_type": "code",
   "execution_count": 255,
   "metadata": {},
   "outputs": [
    {
     "data": {
      "image/png": "[encoded data removed]",
      "text/plain": [
       "<matplotlib.figure.Figure at 0x2400ef1bf28>"
      ]
     },
     "metadata": {},
     "output_type": "display_data"
    }
   ],
   "source": [
    "fpr, tpr, thresholds = draw_roc( y_test,cl_rf_y_test_prob[:,1] )"
   ]
  },
  {
   "cell_type": "markdown",
   "metadata": {},
   "source": [
    "#### k-fold cross-validation for RF best classifier"
   ]
  },
  {
   "cell_type": "code",
   "execution_count": 256,
   "metadata": {},
   "outputs": [],
   "source": [
    "scores = cross_val_score(rf_classifier, X_train , y_train, cv = 10, scoring='roc_auc')\n"
   ]
  },
  {
   "cell_type": "code",
   "execution_count": 257,
   "metadata": {},
   "outputs": [
    {
     "data": {
      "text/plain": [
       "0.97182129389715555"
      ]
     },
     "execution_count": 257,
     "metadata": {},
     "output_type": "execute_result"
    }
   ],
   "source": [
    "scores.mean()"
   ]
  },
  {
   "cell_type": "code",
   "execution_count": 258,
   "metadata": {},
   "outputs": [
    {
     "data": {
      "text/plain": [
       "0.0085630572872786321"
      ]
     },
     "execution_count": 258,
     "metadata": {},
     "output_type": "execute_result"
    }
   ],
   "source": [
    "scores.std()"
   ]
  },
  {
   "cell_type": "code",
   "execution_count": 259,
   "metadata": {},
   "outputs": [
    {
     "data": {
      "text/plain": [
       "lcDispositionDirection      0.482172\n",
       "decisionDirection           0.223935\n",
       "respondent                  0.061526\n",
       "issue                       0.036140\n",
       "petitioner                  0.025728\n",
       "declarationUncon            0.020747\n",
       "term                        0.016900\n",
       "caseSource                  0.014767\n",
       "majOpinWriter               0.014388\n",
       "decisionDirectionDissent    0.013866\n",
       "lcDisagreement              0.012574\n",
       "caseOrigin                  0.012425\n",
       "lawSupp                     0.011237\n",
       "majOpinAssigner             0.010604\n",
       "lcDisposition               0.010026\n",
       "naturalCourt                0.007019\n",
       "certReason                  0.006606\n",
       "majVotes                    0.005429\n",
       "minVotes                    0.004501\n",
       "authorityDecision1          0.003314\n",
       "lawType                     0.002569\n",
       "issueArea                   0.001935\n",
       "decisionType                0.000723\n",
       "caseDispositionUnusual      0.000461\n",
       "precedentAlteration         0.000362\n",
       "voteUnclear                 0.000045\n",
       "jurisdiction                0.000000\n",
       "threeJudgeFdc               0.000000\n",
       "splitVote                   0.000000\n",
       "dtype: float64"
      ]
     },
     "execution_count": 259,
     "metadata": {},
     "output_type": "execute_result"
    }
   ],
   "source": [
    "feature_imp = pd.Series(rf_classifier.feature_importances_,index=X_train.columns).sort_values(ascending=False) \n",
    "feature_imp"
   ]
  },
  {
   "cell_type": "code",
   "execution_count": 260,
   "metadata": {},
   "outputs": [
    {
     "name": "stderr",
     "output_type": "stream",
     "text": [
      "No handles with labels found to put in legend.\n"
     ]
    },
    {
     "data": {
      "image/png": "[encoded data removed]",
      "text/plain": [
       "<matplotlib.figure.Figure at 0x2400eef4a58>"
      ]
     },
     "metadata": {},
     "output_type": "display_data"
    }
   ],
   "source": [
    "import matplotlib.pyplot as plt\n",
    "import seaborn as sns\n",
    "%matplotlib inline\n",
    "# Creating a bar plot\n",
    "feature_imp=feature_imp[0:10,]\n",
    "\n",
    "sns.barplot(x=feature_imp, y=feature_imp.index)\n",
    "# Add labels to your graph\n",
    "plt.xlabel('Feature Importance Score')\n",
    "plt.ylabel('Features')\n",
    "plt.title(\"Visualizing Important Features\")\n",
    "plt.legend()\n",
    "plt.show()"
   ]
  },
  {
   "cell_type": "code",
   "execution_count": null,
   "metadata": {},
   "outputs": [],
   "source": []
  },
  {
   "cell_type": "markdown",
   "metadata": {},
   "source": [
    "# XG BOOST"
   ]
  },
  {
   "cell_type": "code",
   "execution_count": 261,
   "metadata": {},
   "outputs": [],
   "source": [
    "import xgboost as xgb"
   ]
  },
  {
   "cell_type": "code",
   "execution_count": 262,
   "metadata": {},
   "outputs": [],
   "source": [
    "from xgboost.sklearn import XGBClassifier"
   ]
  },
  {
   "cell_type": "code",
   "execution_count": 263,
   "metadata": {},
   "outputs": [],
   "source": [
    "model = XGBClassifier()"
   ]
  },
  {
   "cell_type": "code",
   "execution_count": 264,
   "metadata": {},
   "outputs": [
    {
     "data": {
      "text/plain": [
       "XGBClassifier(base_score=0.5, booster='gbtree', colsample_bylevel=1,\n",
       "       colsample_bytree=1, gamma=0, learning_rate=0.1, max_delta_step=0,\n",
       "       max_depth=3, min_child_weight=1, missing=None, n_estimators=100,\n",
       "       n_jobs=1, nthread=None, objective='binary:logistic', random_state=0,\n",
       "       reg_alpha=0, reg_lambda=1, scale_pos_weight=1, seed=None,\n",
       "       silent=True, subsample=1)"
      ]
     },
     "execution_count": 264,
     "metadata": {},
     "output_type": "execute_result"
    }
   ],
   "source": [
    "model=model.fit(X_train,y_train)\n",
    "model"
   ]
  },
  {
   "cell_type": "code",
   "execution_count": 265,
   "metadata": {},
   "outputs": [
    {
     "data": {
      "text/plain": [
       "XGBClassifier(base_score=0.5, booster='gbtree', colsample_bylevel=1,\n",
       "       colsample_bytree=1, gamma=0, learning_rate=0.1, max_delta_step=0,\n",
       "       max_depth=3, min_child_weight=1, missing=None, n_estimators=100,\n",
       "       n_jobs=1, nthread=None, objective='binary:logistic', random_state=0,\n",
       "       reg_alpha=0, reg_lambda=1, scale_pos_weight=1, seed=None,\n",
       "       silent=True, subsample=1)"
      ]
     },
     "execution_count": 265,
     "metadata": {},
     "output_type": "execute_result"
    }
   ],
   "source": [
    "model"
   ]
  },
  {
   "cell_type": "markdown",
   "metadata": {},
   "source": [
    "#### XgBoost Model Accuracy"
   ]
  },
  {
   "cell_type": "code",
   "execution_count": 266,
   "metadata": {},
   "outputs": [
    {
     "data": {
      "text/plain": [
       "array([ 0.,  1.,  1., ...,  1.,  0.,  0.])"
      ]
     },
     "execution_count": 266,
     "metadata": {},
     "output_type": "execute_result"
    }
   ],
   "source": [
    "pred_y_train = model.predict(X_train)\n",
    "pred_y_train"
   ]
  },
  {
   "cell_type": "code",
   "execution_count": 267,
   "metadata": {},
   "outputs": [
    {
     "data": {
      "text/plain": [
       "0.92800702370500443"
      ]
     },
     "execution_count": 267,
     "metadata": {},
     "output_type": "execute_result"
    }
   ],
   "source": [
    "score = accuracy_score(y_train, pred_y_train)\n",
    "score"
   ]
  },
  {
   "cell_type": "markdown",
   "metadata": {},
   "source": [
    "#### Test Accuracy of XgBoost Model"
   ]
  },
  {
   "cell_type": "code",
   "execution_count": 268,
   "metadata": {},
   "outputs": [
    {
     "data": {
      "text/plain": [
       "array([ 0.,  1.,  0., ...,  1.,  0.,  1.])"
      ]
     },
     "execution_count": 268,
     "metadata": {},
     "output_type": "execute_result"
    }
   ],
   "source": [
    "pred_y_test = model.predict(X_test)\n",
    "pred_y_test"
   ]
  },
  {
   "cell_type": "code",
   "execution_count": 269,
   "metadata": {},
   "outputs": [
    {
     "data": {
      "text/plain": [
       "0.90988223246287758"
      ]
     },
     "execution_count": 269,
     "metadata": {},
     "output_type": "execute_result"
    }
   ],
   "source": [
    "score = accuracy_score(y_test, pred_y_test)\n",
    "score"
   ]
  },
  {
   "cell_type": "markdown",
   "metadata": {},
   "source": [
    "#### AUC of  XgBoost model"
   ]
  },
  {
   "cell_type": "code",
   "execution_count": 270,
   "metadata": {},
   "outputs": [
    {
     "data": {
      "text/plain": [
       "0.97667461815089229"
      ]
     },
     "execution_count": 270,
     "metadata": {},
     "output_type": "execute_result"
    }
   ],
   "source": [
    "y_train_prob = model.predict_proba(X_train)\n",
    "fpr, tpr, thresholds =  roc_curve(y_train, y_train_prob[:,1])\n",
    "auc(fpr, tpr)"
   ]
  },
  {
   "cell_type": "markdown",
   "metadata": {},
   "source": [
    "#### AUC of XgBoost test data"
   ]
  },
  {
   "cell_type": "code",
   "execution_count": 271,
   "metadata": {},
   "outputs": [
    {
     "data": {
      "text/plain": [
       "0.96791963999584751"
      ]
     },
     "execution_count": 271,
     "metadata": {},
     "output_type": "execute_result"
    }
   ],
   "source": [
    "y_test_prob = model.predict_proba(X_test)\n",
    "fpr, tpr, thresholds =  roc_curve(y_test, y_test_prob[:,1])\n",
    "auc(fpr, tpr)"
   ]
  },
  {
   "cell_type": "markdown",
   "metadata": {},
   "source": [
    "## Randomized Search to find best XgBoost parameters"
   ]
  },
  {
   "cell_type": "code",
   "execution_count": 272,
   "metadata": {},
   "outputs": [],
   "source": [
    "import scipy.stats as st\n",
    "\n",
    "one_to_left = st.beta(10, 1)  \n",
    "from_zero_positive = st.expon(0, 50)\n",
    "\n",
    "params = {  \n",
    "    \"n_estimators\": st.randint(3, 40),\n",
    "    \"max_depth\": st.randint(3, 40),\n",
    "    \"learning_rate\": st.uniform(0.05, 0.4),\n",
    "    \"colsample_bytree\": one_to_left,\n",
    "    \"subsample\": one_to_left,\n",
    "    \"gamma\": st.uniform(0, 10),\n",
    "    'reg_alpha': from_zero_positive,\n",
    "    \"min_child_weight\": from_zero_positive,\n",
    "}\n",
    "\n",
    "xgbreg = XGBClassifier(nthreads=-1)"
   ]
  },
  {
   "cell_type": "code",
   "execution_count": 273,
   "metadata": {},
   "outputs": [],
   "source": [
    "from sklearn.model_selection import RandomizedSearchCV\n",
    "\n",
    "tree_cv = RandomizedSearchCV(xgbreg, params, n_jobs=1)  "
   ]
  },
  {
   "cell_type": "code",
   "execution_count": 274,
   "metadata": {},
   "outputs": [],
   "source": [
    "tree_cv=tree_cv.fit(X_train, y_train)  "
   ]
  },
  {
   "cell_type": "code",
   "execution_count": 275,
   "metadata": {},
   "outputs": [],
   "source": [
    "xgclassifier = tree_cv.best_estimator_\n",
    "xgclassifier=xgclassifier.fit(X_train,y_train)"
   ]
  },
  {
   "cell_type": "code",
   "execution_count": 276,
   "metadata": {},
   "outputs": [
    {
     "data": {
      "text/plain": [
       "XGBClassifier(base_score=0.5, booster='gbtree', colsample_bylevel=1,\n",
       "       colsample_bytree=0.93891731260421862, gamma=0.80070270930451937,\n",
       "       learning_rate=0.14366599432773533, max_delta_step=0, max_depth=4,\n",
       "       min_child_weight=24.853989494765433, missing=None, n_estimators=39,\n",
       "       n_jobs=1, nthread=None, nthreads=-1, objective='binary:logistic',\n",
       "       random_state=0, reg_alpha=2.6922736267896514, reg_lambda=1,\n",
       "       scale_pos_weight=1, seed=None, silent=True,\n",
       "       subsample=0.90325871205172958)"
      ]
     },
     "execution_count": 276,
     "metadata": {},
     "output_type": "execute_result"
    }
   ],
   "source": [
    "xgclassifier"
   ]
  },
  {
   "cell_type": "markdown",
   "metadata": {},
   "source": [
    "#### AUC of Xgboost model usin best estimator"
   ]
  },
  {
   "cell_type": "code",
   "execution_count": 277,
   "metadata": {},
   "outputs": [
    {
     "data": {
      "text/plain": [
       "0.97657396515041506"
      ]
     },
     "execution_count": 277,
     "metadata": {},
     "output_type": "execute_result"
    }
   ],
   "source": [
    "y_train_prob = xgclassifier.predict_proba(X_train)\n",
    "fpr, tpr, thresholds = roc_curve(y_train, y_train_prob[:,1])\n",
    "auc_train = auc(fpr, tpr)\n",
    "auc_train"
   ]
  },
  {
   "cell_type": "markdown",
   "metadata": {},
   "source": [
    "#### AUC of Xgboost best estimator on   test data "
   ]
  },
  {
   "cell_type": "code",
   "execution_count": 278,
   "metadata": {},
   "outputs": [
    {
     "data": {
      "text/plain": [
       "0.97167551330832813"
      ]
     },
     "execution_count": 278,
     "metadata": {},
     "output_type": "execute_result"
    }
   ],
   "source": [
    "y_test_prob = xgclassifier.predict_proba(X_test)\n",
    "fpr, tpr, thresholds = roc_curve(y_test, y_test_prob[:,1])\n",
    "auc_test = auc(fpr, tpr)\n",
    "auc_test"
   ]
  },
  {
   "cell_type": "markdown",
   "metadata": {},
   "source": [
    "#### Accuracy of XGboost model with best estimators"
   ]
  },
  {
   "cell_type": "code",
   "execution_count": 279,
   "metadata": {},
   "outputs": [
    {
     "data": {
      "text/plain": [
       "array([ 0.,  1.,  1., ...,  1.,  0.,  0.])"
      ]
     },
     "execution_count": 279,
     "metadata": {},
     "output_type": "execute_result"
    }
   ],
   "source": [
    "pred_y_train = xgclassifier.predict(X_train)\n",
    "pred_y_train"
   ]
  },
  {
   "cell_type": "code",
   "execution_count": 280,
   "metadata": {},
   "outputs": [
    {
     "data": {
      "text/plain": [
       "0.95280948200175597"
      ]
     },
     "execution_count": 280,
     "metadata": {},
     "output_type": "execute_result"
    }
   ],
   "source": [
    "score_train = accuracy_score(y_train, pred_y_train)\n",
    "score_train"
   ]
  },
  {
   "cell_type": "markdown",
   "metadata": {},
   "source": [
    "#### Accuracy of XGboost model on test data with best estimators"
   ]
  },
  {
   "cell_type": "code",
   "execution_count": 281,
   "metadata": {},
   "outputs": [
    {
     "data": {
      "text/plain": [
       "array([ 0.,  1.,  0., ...,  1.,  0.,  1.])"
      ]
     },
     "execution_count": 281,
     "metadata": {},
     "output_type": "execute_result"
    }
   ],
   "source": [
    "pred_y_test = xgclassifier.predict(X_test)\n",
    "pred_y_test"
   ]
  },
  {
   "cell_type": "code",
   "execution_count": 282,
   "metadata": {},
   "outputs": [
    {
     "data": {
      "text/plain": [
       "0.95135688684075781"
      ]
     },
     "execution_count": 282,
     "metadata": {},
     "output_type": "execute_result"
    }
   ],
   "source": [
    "score_test = accuracy_score(y_test, pred_y_test)\n",
    "score_test"
   ]
  },
  {
   "cell_type": "markdown",
   "metadata": {},
   "source": [
    "#### Cross Validation for XGboost model with best estimators"
   ]
  },
  {
   "cell_type": "code",
   "execution_count": 283,
   "metadata": {},
   "outputs": [
    {
     "data": {
      "text/plain": [
       "0.97251882817554214"
      ]
     },
     "execution_count": 283,
     "metadata": {},
     "output_type": "execute_result"
    }
   ],
   "source": [
    "scores = model_selection.cross_val_score(xgclassifier, X_train, y_train, cv = 10, scoring='roc_auc')\n",
    "scores.mean()"
   ]
  },
  {
   "cell_type": "code",
   "execution_count": 284,
   "metadata": {},
   "outputs": [
    {
     "data": {
      "text/plain": [
       "0.0059348796869321315"
      ]
     },
     "execution_count": 284,
     "metadata": {},
     "output_type": "execute_result"
    }
   ],
   "source": [
    "scores.std()"
   ]
  },
  {
   "cell_type": "code",
   "execution_count": 285,
   "metadata": {},
   "outputs": [
    {
     "data": {
      "text/plain": [
       "decisionDirection           0.187311\n",
       "lcDispositionDirection      0.126888\n",
       "respondent                  0.111782\n",
       "petitioner                  0.078550\n",
       "caseSource                  0.054381\n",
       "majOpinAssigner             0.051360\n",
       "naturalCourt                0.048338\n",
       "certReason                  0.042296\n",
       "term                        0.042296\n",
       "minVotes                    0.036254\n",
       "lcDisagreement              0.033233\n",
       "lawSupp                     0.030211\n",
       "issue                       0.030211\n",
       "lcDisposition               0.030211\n",
       "majVotes                    0.027190\n",
       "declarationUncon            0.024169\n",
       "majOpinWriter               0.018127\n",
       "caseOrigin                  0.018127\n",
       "authorityDecision1          0.009063\n",
       "issueArea                   0.000000\n",
       "jurisdiction                0.000000\n",
       "decisionType                0.000000\n",
       "decisionDirectionDissent    0.000000\n",
       "lawType                     0.000000\n",
       "threeJudgeFdc               0.000000\n",
       "precedentAlteration         0.000000\n",
       "splitVote                   0.000000\n",
       "caseDispositionUnusual      0.000000\n",
       "voteUnclear                 0.000000\n",
       "dtype: float32"
      ]
     },
     "execution_count": 285,
     "metadata": {},
     "output_type": "execute_result"
    }
   ],
   "source": [
    "feature_imp = pd.Series(xgclassifier.feature_importances_,index=X_train.columns).sort_values(ascending=False) \n",
    "feature_imp"
   ]
  },
  {
   "cell_type": "code",
   "execution_count": 286,
   "metadata": {},
   "outputs": [
    {
     "name": "stderr",
     "output_type": "stream",
     "text": [
      "No handles with labels found to put in legend.\n"
     ]
    },
    {
     "data": {
      "image/png": "[encoded data removed]",
      "text/plain": [
       "<matplotlib.figure.Figure at 0x2400ed12780>"
      ]
     },
     "metadata": {},
     "output_type": "display_data"
    }
   ],
   "source": [
    "import matplotlib.pyplot as plt\n",
    "import seaborn as sns\n",
    "%matplotlib inline\n",
    "# Creating a bar plot\n",
    "feature_imp=feature_imp[0:10,]\n",
    "\n",
    "sns.barplot(x=feature_imp, y=feature_imp.index)\n",
    "# Add labels to your graph\n",
    "plt.xlabel('Feature Importance Score')\n",
    "plt.ylabel('Features')\n",
    "plt.title(\"Visualizing Important Features\")\n",
    "plt.legend()\n",
    "plt.show()"
   ]
  },
  {
   "cell_type": "code",
   "execution_count": 287,
   "metadata": {},
   "outputs": [
    {
     "data": {
      "text/plain": [
       "<matplotlib.axes._subplots.AxesSubplot at 0x2400ef878d0>"
      ]
     },
     "execution_count": 287,
     "metadata": {},
     "output_type": "execute_result"
    },
    {
     "data": {
      "image/png": "[encoded data removed]",
      "text/plain": [
       "<matplotlib.figure.Figure at 0x2400d6a08d0>"
      ]
     },
     "metadata": {},
     "output_type": "display_data"
    }
   ],
   "source": [
    "import seaborn as sns\n",
    "sns.violinplot(x=data2['partyWinning'],y=data2['decisionDirection'].value_counts())"
   ]
  },
  {
   "cell_type": "code",
   "execution_count": 288,
   "metadata": {},
   "outputs": [
    {
     "data": {
      "text/plain": [
       "<matplotlib.axes._subplots.AxesSubplot at 0x2400efbd240>"
      ]
     },
     "execution_count": 288,
     "metadata": {},
     "output_type": "execute_result"
    },
    {
     "data": {
      "image/png": "[encoded data removed]",
      "text/plain": [
       "<matplotlib.figure.Figure at 0x2400f0ac400>"
      ]
     },
     "metadata": {},
     "output_type": "display_data"
    }
   ],
   "source": [
    "sns.barplot(data2['partyWinning'],hue=data2['lcDispositionDirection'].value_counts())"
   ]
  },
  {
   "cell_type": "code",
   "execution_count": 289,
   "metadata": {},
   "outputs": [
    {
     "data": {
      "text/plain": [
       "<matplotlib.axes._subplots.AxesSubplot at 0x2400ef064a8>"
      ]
     },
     "execution_count": 289,
     "metadata": {},
     "output_type": "execute_result"
    },
    {
     "data": {
      "image/png": "[encoded data removed]",
      "text/plain": [
       "<matplotlib.figure.Figure at 0x2400ec70550>"
      ]
     },
     "metadata": {},
     "output_type": "display_data"
    }
   ],
   "source": [
    "sns.countplot(data2['lcDispositionDirection'])"
   ]
  },
  {
   "cell_type": "code",
   "execution_count": 290,
   "metadata": {},
   "outputs": [
    {
     "data": {
      "text/html": [
       "<div>\n",
       "<style scoped>\n",
       "    .dataframe tbody tr th:only-of-type {\n",
       "        vertical-align: middle;\n",
       "    }\n",
       "\n",
       "    .dataframe tbody tr th {\n",
       "        vertical-align: top;\n",
       "    }\n",
       "\n",
       "    .dataframe thead th {\n",
       "        text-align: right;\n",
       "    }\n",
       "</style>\n",
       "<table border=\"1\" class=\"dataframe\">\n",
       "  <thead>\n",
       "    <tr style=\"text-align: right;\">\n",
       "      <th>partyWinning</th>\n",
       "      <th>0.0</th>\n",
       "      <th>1.0</th>\n",
       "    </tr>\n",
       "    <tr>\n",
       "      <th>lcDispositionDirection</th>\n",
       "      <th></th>\n",
       "      <th></th>\n",
       "    </tr>\n",
       "  </thead>\n",
       "  <tbody>\n",
       "    <tr>\n",
       "      <th>1.0</th>\n",
       "      <td>1287</td>\n",
       "      <td>2215</td>\n",
       "    </tr>\n",
       "    <tr>\n",
       "      <th>2.0</th>\n",
       "      <td>1123</td>\n",
       "      <td>1853</td>\n",
       "    </tr>\n",
       "    <tr>\n",
       "      <th>3.0</th>\n",
       "      <td>14</td>\n",
       "      <td>17</td>\n",
       "    </tr>\n",
       "  </tbody>\n",
       "</table>\n",
       "</div>"
      ],
      "text/plain": [
       "partyWinning             0.0   1.0\n",
       "lcDispositionDirection            \n",
       "1.0                     1287  2215\n",
       "2.0                     1123  1853\n",
       "3.0                       14    17"
      ]
     },
     "execution_count": 290,
     "metadata": {},
     "output_type": "execute_result"
    }
   ],
   "source": [
    "clarity_color_table = pd.crosstab(index=data2['lcDispositionDirection'], \n",
    "                          columns=data2['partyWinning'])\n",
    "\n",
    "clarity_color_table"
   ]
  },
  {
   "cell_type": "code",
   "execution_count": 291,
   "metadata": {},
   "outputs": [
    {
     "data": {
      "text/plain": [
       "<matplotlib.axes._subplots.AxesSubplot at 0x2400ef87e80>"
      ]
     },
     "execution_count": 291,
     "metadata": {},
     "output_type": "execute_result"
    },
    {
     "data": {
      "image/png": "[encoded data removed]",
      "text/plain": [
       "<matplotlib.figure.Figure at 0x24010eeb898>"
      ]
     },
     "metadata": {},
     "output_type": "display_data"
    }
   ],
   "source": [
    "clarity_color_table.plot(kind=\"bar\", \n",
    "                 figsize=(8,8),\n",
    "                 stacked=False)"
   ]
  },
  {
   "cell_type": "code",
   "execution_count": 292,
   "metadata": {},
   "outputs": [
    {
     "data": {
      "text/html": [
       "<div>\n",
       "<style scoped>\n",
       "    .dataframe tbody tr th:only-of-type {\n",
       "        vertical-align: middle;\n",
       "    }\n",
       "\n",
       "    .dataframe tbody tr th {\n",
       "        vertical-align: top;\n",
       "    }\n",
       "\n",
       "    .dataframe thead th {\n",
       "        text-align: right;\n",
       "    }\n",
       "</style>\n",
       "<table border=\"1\" class=\"dataframe\">\n",
       "  <thead>\n",
       "    <tr style=\"text-align: right;\">\n",
       "      <th>partyWinning</th>\n",
       "      <th>0.0</th>\n",
       "      <th>1.0</th>\n",
       "    </tr>\n",
       "    <tr>\n",
       "      <th>decisionDirection</th>\n",
       "      <th></th>\n",
       "      <th></th>\n",
       "    </tr>\n",
       "  </thead>\n",
       "  <tbody>\n",
       "    <tr>\n",
       "      <th>1.0</th>\n",
       "      <td>1289</td>\n",
       "      <td>1841</td>\n",
       "    </tr>\n",
       "    <tr>\n",
       "      <th>2.0</th>\n",
       "      <td>1120</td>\n",
       "      <td>2227</td>\n",
       "    </tr>\n",
       "    <tr>\n",
       "      <th>3.0</th>\n",
       "      <td>15</td>\n",
       "      <td>17</td>\n",
       "    </tr>\n",
       "  </tbody>\n",
       "</table>\n",
       "</div>"
      ],
      "text/plain": [
       "partyWinning        0.0   1.0\n",
       "decisionDirection            \n",
       "1.0                1289  1841\n",
       "2.0                1120  2227\n",
       "3.0                  15    17"
      ]
     },
     "execution_count": 292,
     "metadata": {},
     "output_type": "execute_result"
    }
   ],
   "source": [
    "clarity_color_table1 = pd.crosstab(index=data2['decisionDirection'], \n",
    "                          columns=data2['partyWinning'])\n",
    "\n",
    "clarity_color_table1"
   ]
  },
  {
   "cell_type": "code",
   "execution_count": 293,
   "metadata": {},
   "outputs": [
    {
     "data": {
      "text/plain": [
       "<matplotlib.axes._subplots.AxesSubplot at 0x2400f0a6c18>"
      ]
     },
     "execution_count": 293,
     "metadata": {},
     "output_type": "execute_result"
    },
    {
     "data": {
      "image/png": "[encoded data removed]",
      "text/plain": [
       "<matplotlib.figure.Figure at 0x2400f009c50>"
      ]
     },
     "metadata": {},
     "output_type": "display_data"
    }
   ],
   "source": [
    "clarity_color_table1.plot(kind=\"bar\", \n",
    "                 figsize=(8,8),\n",
    "                 stacked=False)"
   ]
  },
  {
   "cell_type": "code",
   "execution_count": 294,
   "metadata": {},
   "outputs": [
    {
     "data": {
      "text/plain": [
       "<matplotlib.axes._subplots.AxesSubplot at 0x2400e5323c8>"
      ]
     },
     "execution_count": 294,
     "metadata": {},
     "output_type": "execute_result"
    },
    {
     "data": {
      "image/png": "[encoded data removed]",
      "text/plain": [
       "<matplotlib.figure.Figure at 0x2400ec48a20>"
      ]
     },
     "metadata": {},
     "output_type": "display_data"
    }
   ],
   "source": [
    "clarity_color_table2 = pd.crosstab(index=data2['respondent'].value_counts(), \n",
    "                          columns=data2['partyWinning'])\n",
    "clarity_color_table2.plot(kind=\"bar\", \n",
    "                 figsize=(15,15),\n",
    "                 stacked=False)"
   ]
  },
  {
   "cell_type": "code",
   "execution_count": 295,
   "metadata": {},
   "outputs": [
    {
     "data": {
      "text/plain": [
       "<matplotlib.axes._subplots.AxesSubplot at 0x2400ee700b8>"
      ]
     },
     "execution_count": 295,
     "metadata": {},
     "output_type": "execute_result"
    },
    {
     "data": {
      "image/png": "[encoded data removed]",
      "text/plain": [
       "<matplotlib.figure.Figure at 0x2400efac630>"
      ]
     },
     "metadata": {},
     "output_type": "display_data"
    }
   ],
   "source": [
    "clarity_color_table3 = pd.crosstab(index=data2['petitioner'].value_counts(), \n",
    "                          columns=data2['partyWinning'])\n",
    "clarity_color_table3.plot(kind=\"bar\", \n",
    "                 figsize=(15,15),\n",
    "                 stacked=False)"
   ]
  },
  {
   "cell_type": "code",
   "execution_count": 296,
   "metadata": {},
   "outputs": [
    {
     "data": {
      "text/plain": [
       "<matplotlib.axes._subplots.AxesSubplot at 0x2400ee87198>"
      ]
     },
     "execution_count": 296,
     "metadata": {},
     "output_type": "execute_result"
    },
    {
     "data": {
      "image/png": "[encoded data removed]",
      "text/plain": [
       "<matplotlib.figure.Figure at 0x24010ee8e80>"
      ]
     },
     "metadata": {},
     "output_type": "display_data"
    }
   ],
   "source": [
    "clarity_color_table3 = pd.crosstab(index=data2['term'].value_counts()[:3], \n",
    "                          columns=data2['partyWinning'])\n",
    "clarity_color_table3.plot(kind=\"bar\", \n",
    "                 figsize=(15,15),\n",
    "                 stacked=False)"
   ]
  },
  {
   "cell_type": "code",
   "execution_count": null,
   "metadata": {},
   "outputs": [],
   "source": []
  },
  {
   "cell_type": "code",
   "execution_count": null,
   "metadata": {},
   "outputs": [],
   "source": []
  },
  {
   "cell_type": "code",
   "execution_count": null,
   "metadata": {},
   "outputs": [],
   "source": []
  },
  {
   "cell_type": "code",
   "execution_count": null,
   "metadata": {},
   "outputs": [],
   "source": [
    "    "
   ]
  }
 ],
 "metadata": {
  "kernelspec": {
   "display_name": "Python 3",
   "language": "python",
   "name": "python3"
  },
  "language_info": {
   "codemirror_mode": {
    "name": "ipython",
    "version": 3
   },
   "file_extension": ".py",
   "mimetype": "text/x-python",
   "name": "python",
   "nbconvert_exporter": "python",
   "pygments_lexer": "ipython3",
   "version": "3.6.4"
  }
 },
 "nbformat": 4,
 "nbformat_minor": 2
}
